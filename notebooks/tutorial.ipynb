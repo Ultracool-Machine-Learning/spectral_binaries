{
 "cells": [
  {
   "cell_type": "markdown",
   "metadata": {},
   "source": [
    "# Ultracool Machine Learning Code Tutorial Notebook\n",
    "\n",
    "Authored by Camille. If there is anything missing or could be elaborated on, raise an issue or message me directly!"
   ]
  },
  {
   "cell_type": "code",
   "execution_count": 1,
   "metadata": {},
   "outputs": [
    {
     "name": "stdout",
     "output_type": "stream",
     "text": [
      "\n",
      "\n",
      "Welcome to the UCSD Machine Learning Project Spectral Binary Code!\n",
      "You are currently using version 2023.03.13\n",
      "\n",
      "Please report any errors are feature requests to our github page, https://github.com/Ultracool-Machine-Learning/spectral_binaries\n",
      "\n",
      "\n"
     ]
    },
    {
     "ename": "ImportError",
     "evalue": "Missing optional dependency 'pytables'.  Use pip or conda to install pytables.",
     "output_type": "error",
     "traceback": [
      "\u001B[0;31m---------------------------------------------------------------------------\u001B[0m",
      "\u001B[0;31mModuleNotFoundError\u001B[0m                       Traceback (most recent call last)",
      "File \u001B[0;32m~/.local/lib/python3.10/site-packages/pandas/compat/_optional.py:141\u001B[0m, in \u001B[0;36mimport_optional_dependency\u001B[0;34m(name, extra, errors, min_version)\u001B[0m\n\u001B[1;32m    140\u001B[0m \u001B[38;5;28;01mtry\u001B[39;00m:\n\u001B[0;32m--> 141\u001B[0m     module \u001B[38;5;241m=\u001B[39m \u001B[43mimportlib\u001B[49m\u001B[38;5;241;43m.\u001B[39;49m\u001B[43mimport_module\u001B[49m\u001B[43m(\u001B[49m\u001B[43mname\u001B[49m\u001B[43m)\u001B[49m\n\u001B[1;32m    142\u001B[0m \u001B[38;5;28;01mexcept\u001B[39;00m \u001B[38;5;167;01mImportError\u001B[39;00m:\n",
      "File \u001B[0;32m~/anaconda3/envs/spectral_binaries/lib/python3.10/importlib/__init__.py:126\u001B[0m, in \u001B[0;36mimport_module\u001B[0;34m(name, package)\u001B[0m\n\u001B[1;32m    125\u001B[0m         level \u001B[38;5;241m+\u001B[39m\u001B[38;5;241m=\u001B[39m \u001B[38;5;241m1\u001B[39m\n\u001B[0;32m--> 126\u001B[0m \u001B[38;5;28;01mreturn\u001B[39;00m \u001B[43m_bootstrap\u001B[49m\u001B[38;5;241;43m.\u001B[39;49m\u001B[43m_gcd_import\u001B[49m\u001B[43m(\u001B[49m\u001B[43mname\u001B[49m\u001B[43m[\u001B[49m\u001B[43mlevel\u001B[49m\u001B[43m:\u001B[49m\u001B[43m]\u001B[49m\u001B[43m,\u001B[49m\u001B[43m \u001B[49m\u001B[43mpackage\u001B[49m\u001B[43m,\u001B[49m\u001B[43m \u001B[49m\u001B[43mlevel\u001B[49m\u001B[43m)\u001B[49m\n",
      "File \u001B[0;32m<frozen importlib._bootstrap>:1050\u001B[0m, in \u001B[0;36m_gcd_import\u001B[0;34m(name, package, level)\u001B[0m\n",
      "File \u001B[0;32m<frozen importlib._bootstrap>:1027\u001B[0m, in \u001B[0;36m_find_and_load\u001B[0;34m(name, import_)\u001B[0m\n",
      "File \u001B[0;32m<frozen importlib._bootstrap>:1004\u001B[0m, in \u001B[0;36m_find_and_load_unlocked\u001B[0;34m(name, import_)\u001B[0m\n",
      "\u001B[0;31mModuleNotFoundError\u001B[0m: No module named 'tables'",
      "\nDuring handling of the above exception, another exception occurred:\n",
      "\u001B[0;31mImportError\u001B[0m                               Traceback (most recent call last)",
      "Cell \u001B[0;32mIn[1], line 5\u001B[0m\n\u001B[1;32m      2\u001B[0m \u001B[38;5;28;01mfrom\u001B[39;00m \u001B[38;5;21;01msklearn\u001B[39;00m\u001B[38;5;21;01m.\u001B[39;00m\u001B[38;5;21;01mdatasets\u001B[39;00m \u001B[38;5;28;01mimport\u001B[39;00m make_classification\n\u001B[1;32m      4\u001B[0m \u001B[38;5;66;03m# Any custom functions we write will be imported from their module in the spectral_binaries package.\u001B[39;00m\n\u001B[0;32m----> 5\u001B[0m \u001B[38;5;28;01mfrom\u001B[39;00m \u001B[38;5;21;01mspectral_binaries\u001B[39;00m\u001B[38;5;21;01m.\u001B[39;00m\u001B[38;5;21;01mtrain\u001B[39;00m \u001B[38;5;28;01mimport\u001B[39;00m run_RF\n\u001B[1;32m      6\u001B[0m \u001B[38;5;28;01mfrom\u001B[39;00m \u001B[38;5;21;01mspectral_binaries\u001B[39;00m\u001B[38;5;21;01m.\u001B[39;00m\u001B[38;5;21;01mvisualization\u001B[39;00m \u001B[38;5;28;01mimport\u001B[39;00m (\n\u001B[1;32m      7\u001B[0m     plot_feature_importance,\n\u001B[1;32m      8\u001B[0m     plot_confusion_matrix,\n\u001B[0;32m   (...)\u001B[0m\n\u001B[1;32m     11\u001B[0m     plot_calibration\n\u001B[1;32m     12\u001B[0m )\n",
      "File \u001B[0;32m~/Code/spectral_binaries/spectral_binaries/__init__.py:7\u001B[0m\n\u001B[1;32m      1\u001B[0m \u001B[38;5;124;03m\"\"\"\u001B[39;00m\n\u001B[1;32m      2\u001B[0m \u001B[38;5;124;03mSpectralBinaries is a package intended to fit near-infrared spectral data \u001B[39;00m\n\u001B[1;32m      3\u001B[0m \u001B[38;5;124;03mto binary templates in order to assess whether they are unresolved pairs\u001B[39;00m\n\u001B[1;32m      4\u001B[0m \u001B[38;5;124;03musing machine learning tools\u001B[39;00m\n\u001B[1;32m      5\u001B[0m \u001B[38;5;124;03m\"\"\"\u001B[39;00m\n\u001B[0;32m----> 7\u001B[0m \u001B[38;5;28;01mfrom\u001B[39;00m \u001B[38;5;21;01m.\u001B[39;00m\u001B[38;5;21;01mcore\u001B[39;00m \u001B[38;5;28;01mimport\u001B[39;00m \u001B[38;5;241m*\u001B[39m\n\u001B[1;32m      8\u001B[0m \u001B[38;5;66;03m#from pyspextool.instrument_data.spex_dir.spex import read_fits as read_fits\u001B[39;00m\n\u001B[1;32m      9\u001B[0m \u001B[38;5;66;03m#from pyspextool.instrument_data.uspex_dir.uspex import read_fits as read_fits\u001B[39;00m\n\u001B[1;32m     10\u001B[0m \n\u001B[1;32m     11\u001B[0m \u001B[38;5;66;03m#pyspextool_setup()\u001B[39;00m\n",
      "File \u001B[0;32m~/Code/spectral_binaries/spectral_binaries/core.py:80\u001B[0m\n\u001B[1;32m     55\u001B[0m absmag_relations \u001B[38;5;241m=\u001B[39m {\n\u001B[1;32m     56\u001B[0m \u001B[38;5;124m'\u001B[39m\u001B[38;5;124mfilippazzo2015\u001B[39m\u001B[38;5;124m'\u001B[39m: {\u001B[38;5;124m'\u001B[39m\u001B[38;5;124msptoffset\u001B[39m\u001B[38;5;124m'\u001B[39m: \u001B[38;5;241m10\u001B[39m, \u001B[38;5;124m'\u001B[39m\u001B[38;5;124mfilters\u001B[39m\u001B[38;5;124m'\u001B[39m: {\n\u001B[1;32m     57\u001B[0m   \u001B[38;5;124m'\u001B[39m\u001B[38;5;124m2MASS_J\u001B[39m\u001B[38;5;124m'\u001B[39m: {\u001B[38;5;124m'\u001B[39m\u001B[38;5;124mfitunc\u001B[39m\u001B[38;5;124m'\u001B[39m: \u001B[38;5;241m0.4\u001B[39m,\u001B[38;5;124m'\u001B[39m\u001B[38;5;124mrange\u001B[39m\u001B[38;5;124m'\u001B[39m: [\u001B[38;5;241m16.0\u001B[39m, \u001B[38;5;241m39.0\u001B[39m],\u001B[38;5;124m'\u001B[39m\u001B[38;5;124mcoeff\u001B[39m\u001B[38;5;124m'\u001B[39m: [\u001B[38;5;241m3.478e-05\u001B[39m, \u001B[38;5;241m-\u001B[39m\u001B[38;5;241m0.002684\u001B[39m, \u001B[38;5;241m0.07771\u001B[39m, \u001B[38;5;241m-\u001B[39m\u001B[38;5;241m1.058\u001B[39m, \u001B[38;5;241m7.157\u001B[39m, \u001B[38;5;241m-\u001B[39m\u001B[38;5;241m8.35\u001B[39m]},\n\u001B[0;32m   (...)\u001B[0m\n\u001B[1;32m     76\u001B[0m   \u001B[38;5;124m'\u001B[39m\u001B[38;5;124mWISE_W4\u001B[39m\u001B[38;5;124m'\u001B[39m: {\u001B[38;5;124m'\u001B[39m\u001B[38;5;124mfitunc\u001B[39m\u001B[38;5;124m'\u001B[39m: \u001B[38;5;241m0.76\u001B[39m,  \u001B[38;5;124m'\u001B[39m\u001B[38;5;124mrange\u001B[39m\u001B[38;5;124m'\u001B[39m: [\u001B[38;5;241m16.0\u001B[39m, \u001B[38;5;241m39.0\u001B[39m],  \u001B[38;5;124m'\u001B[39m\u001B[38;5;124mcoeff\u001B[39m\u001B[38;5;124m'\u001B[39m: [\u001B[38;5;241m-\u001B[39m\u001B[38;5;241m0.00216042\u001B[39m, \u001B[38;5;241m0.11463\u001B[39m, \u001B[38;5;241m7.78974\u001B[39m]}, \n\u001B[1;32m     77\u001B[0m   }}}\n\u001B[1;32m     79\u001B[0m \u001B[38;5;66;03m# read in standards\u001B[39;00m\n\u001B[0;32m---> 80\u001B[0m df \u001B[38;5;241m=\u001B[39m \u001B[43mpd\u001B[49m\u001B[38;5;241;43m.\u001B[39;49m\u001B[43mread_hdf\u001B[49m\u001B[43m(\u001B[49m\u001B[43mDATA_FOLDER\u001B[49m\u001B[38;5;241;43m+\u001B[39;49m\u001B[38;5;124;43m'\u001B[39;49m\u001B[38;5;124;43mstandards.h5\u001B[39;49m\u001B[38;5;124;43m'\u001B[39;49m\u001B[43m)\u001B[49m\n\u001B[1;32m     81\u001B[0m STANDARDS \u001B[38;5;241m=\u001B[39m {\u001B[38;5;124m'\u001B[39m\u001B[38;5;124mWAVE\u001B[39m\u001B[38;5;124m'\u001B[39m: df[\u001B[38;5;124m'\u001B[39m\u001B[38;5;124mwavegrid\u001B[39m\u001B[38;5;124m'\u001B[39m]\u001B[38;5;241m.\u001B[39miloc[\u001B[38;5;241m0\u001B[39m],\u001B[38;5;124m'\u001B[39m\u001B[38;5;124mSPT\u001B[39m\u001B[38;5;124m'\u001B[39m:df[\u001B[38;5;124m'\u001B[39m\u001B[38;5;124msptype\u001B[39m\u001B[38;5;124m'\u001B[39m],\u001B[38;5;124m'\u001B[39m\u001B[38;5;124mFLUX\u001B[39m\u001B[38;5;124m'\u001B[39m:df[\u001B[38;5;124m'\u001B[39m\u001B[38;5;124minterpolated_flux\u001B[39m\u001B[38;5;124m'\u001B[39m], \u001B[38;5;124m'\u001B[39m\u001B[38;5;124mUNC\u001B[39m\u001B[38;5;124m'\u001B[39m:df[\u001B[38;5;124m'\u001B[39m\u001B[38;5;124minterpolated_noise\u001B[39m\u001B[38;5;124m'\u001B[39m]}\n\u001B[1;32m     82\u001B[0m wavegrid \u001B[38;5;241m=\u001B[39m STANDARDS[\u001B[38;5;124m'\u001B[39m\u001B[38;5;124mWAVE\u001B[39m\u001B[38;5;124m'\u001B[39m]\n",
      "File \u001B[0;32m~/.local/lib/python3.10/site-packages/pandas/io/pytables.py:416\u001B[0m, in \u001B[0;36mread_hdf\u001B[0;34m(path_or_buf, key, mode, errors, where, start, stop, columns, iterator, chunksize, **kwargs)\u001B[0m\n\u001B[1;32m    413\u001B[0m \u001B[38;5;28;01mif\u001B[39;00m \u001B[38;5;129;01mnot\u001B[39;00m exists:\n\u001B[1;32m    414\u001B[0m     \u001B[38;5;28;01mraise\u001B[39;00m \u001B[38;5;167;01mFileNotFoundError\u001B[39;00m(\u001B[38;5;124mf\u001B[39m\u001B[38;5;124m\"\u001B[39m\u001B[38;5;124mFile \u001B[39m\u001B[38;5;132;01m{\u001B[39;00mpath_or_buf\u001B[38;5;132;01m}\u001B[39;00m\u001B[38;5;124m does not exist\u001B[39m\u001B[38;5;124m\"\u001B[39m)\n\u001B[0;32m--> 416\u001B[0m store \u001B[38;5;241m=\u001B[39m \u001B[43mHDFStore\u001B[49m\u001B[43m(\u001B[49m\u001B[43mpath_or_buf\u001B[49m\u001B[43m,\u001B[49m\u001B[43m \u001B[49m\u001B[43mmode\u001B[49m\u001B[38;5;241;43m=\u001B[39;49m\u001B[43mmode\u001B[49m\u001B[43m,\u001B[49m\u001B[43m \u001B[49m\u001B[43merrors\u001B[49m\u001B[38;5;241;43m=\u001B[39;49m\u001B[43merrors\u001B[49m\u001B[43m,\u001B[49m\u001B[43m \u001B[49m\u001B[38;5;241;43m*\u001B[39;49m\u001B[38;5;241;43m*\u001B[39;49m\u001B[43mkwargs\u001B[49m\u001B[43m)\u001B[49m\n\u001B[1;32m    417\u001B[0m \u001B[38;5;66;03m# can't auto open/close if we are using an iterator\u001B[39;00m\n\u001B[1;32m    418\u001B[0m \u001B[38;5;66;03m# so delegate to the iterator\u001B[39;00m\n\u001B[1;32m    419\u001B[0m auto_close \u001B[38;5;241m=\u001B[39m \u001B[38;5;28;01mTrue\u001B[39;00m\n",
      "File \u001B[0;32m~/.local/lib/python3.10/site-packages/pandas/io/pytables.py:559\u001B[0m, in \u001B[0;36mHDFStore.__init__\u001B[0;34m(self, path, mode, complevel, complib, fletcher32, **kwargs)\u001B[0m\n\u001B[1;32m    556\u001B[0m \u001B[38;5;28;01mif\u001B[39;00m \u001B[38;5;124m\"\u001B[39m\u001B[38;5;124mformat\u001B[39m\u001B[38;5;124m\"\u001B[39m \u001B[38;5;129;01min\u001B[39;00m kwargs:\n\u001B[1;32m    557\u001B[0m     \u001B[38;5;28;01mraise\u001B[39;00m \u001B[38;5;167;01mValueError\u001B[39;00m(\u001B[38;5;124m\"\u001B[39m\u001B[38;5;124mformat is not a defined argument for HDFStore\u001B[39m\u001B[38;5;124m\"\u001B[39m)\n\u001B[0;32m--> 559\u001B[0m tables \u001B[38;5;241m=\u001B[39m \u001B[43mimport_optional_dependency\u001B[49m\u001B[43m(\u001B[49m\u001B[38;5;124;43m\"\u001B[39;49m\u001B[38;5;124;43mtables\u001B[39;49m\u001B[38;5;124;43m\"\u001B[39;49m\u001B[43m)\u001B[49m\n\u001B[1;32m    561\u001B[0m \u001B[38;5;28;01mif\u001B[39;00m complib \u001B[38;5;129;01mis\u001B[39;00m \u001B[38;5;129;01mnot\u001B[39;00m \u001B[38;5;28;01mNone\u001B[39;00m \u001B[38;5;129;01mand\u001B[39;00m complib \u001B[38;5;129;01mnot\u001B[39;00m \u001B[38;5;129;01min\u001B[39;00m tables\u001B[38;5;241m.\u001B[39mfilters\u001B[38;5;241m.\u001B[39mall_complibs:\n\u001B[1;32m    562\u001B[0m     \u001B[38;5;28;01mraise\u001B[39;00m \u001B[38;5;167;01mValueError\u001B[39;00m(\n\u001B[1;32m    563\u001B[0m         \u001B[38;5;124mf\u001B[39m\u001B[38;5;124m\"\u001B[39m\u001B[38;5;124mcomplib only supports \u001B[39m\u001B[38;5;132;01m{\u001B[39;00mtables\u001B[38;5;241m.\u001B[39mfilters\u001B[38;5;241m.\u001B[39mall_complibs\u001B[38;5;132;01m}\u001B[39;00m\u001B[38;5;124m compression.\u001B[39m\u001B[38;5;124m\"\u001B[39m\n\u001B[1;32m    564\u001B[0m     )\n",
      "File \u001B[0;32m~/.local/lib/python3.10/site-packages/pandas/compat/_optional.py:144\u001B[0m, in \u001B[0;36mimport_optional_dependency\u001B[0;34m(name, extra, errors, min_version)\u001B[0m\n\u001B[1;32m    142\u001B[0m \u001B[38;5;28;01mexcept\u001B[39;00m \u001B[38;5;167;01mImportError\u001B[39;00m:\n\u001B[1;32m    143\u001B[0m     \u001B[38;5;28;01mif\u001B[39;00m errors \u001B[38;5;241m==\u001B[39m \u001B[38;5;124m\"\u001B[39m\u001B[38;5;124mraise\u001B[39m\u001B[38;5;124m\"\u001B[39m:\n\u001B[0;32m--> 144\u001B[0m         \u001B[38;5;28;01mraise\u001B[39;00m \u001B[38;5;167;01mImportError\u001B[39;00m(msg)\n\u001B[1;32m    145\u001B[0m     \u001B[38;5;28;01melse\u001B[39;00m:\n\u001B[1;32m    146\u001B[0m         \u001B[38;5;28;01mreturn\u001B[39;00m \u001B[38;5;28;01mNone\u001B[39;00m\n",
      "\u001B[0;31mImportError\u001B[0m: Missing optional dependency 'pytables'.  Use pip or conda to install pytables."
     ]
    }
   ],
   "source": [
    "import numpy as np\n",
    "from sklearn.datasets import make_classification\n",
    "\n",
    "# Any custom functions we write will be imported from their module in the spectral_binaries package.\n",
    "from spectral_binaries.train import run_RF\n",
    "from spectral_binaries.visualization import (\n",
    "    plot_feature_importance,\n",
    "    plot_confusion_matrix,\n",
    "    plot_roc,\n",
    "    plot_prc,\n",
    "    plot_calibration\n",
    ")"
   ]
  },
  {
   "cell_type": "markdown",
   "metadata": {},
   "source": [
    "For our example, let's pretend this dataset from `sklearn`'s `make_classification` function is our dataset of single and binary templates."
   ]
  },
  {
   "cell_type": "code",
   "execution_count": null,
   "metadata": {},
   "outputs": [],
   "source": [
    "X, y = make_classification(n_samples=10000, n_features=20, n_redundant=0, n_clusters_per_class=1, random_state=0)"
   ]
  },
  {
   "cell_type": "markdown",
   "metadata": {},
   "source": [
    "# Running the RF Pipeline\n",
    "\n",
    "Right now, the whole ML pipeline can be run by calling the wrapper function `run_RF`, imported above, with necessary arguments. The arguments you pass in will configure the training process, whether that includes hyperparameter train/test splitting, feature selection, grid search, or calibration (explained later in the notebook). This function assumes your input features `X` and labels `y` are preprocessed and prepared for modeling. The function returns a dictionary containing:\n",
    "- `model`: Fitted model (if calibration used, RF is stored in the `estimator` key and its calibration wrapper is stored in `model`).\n",
    "- `estimator`: Fitted RF estimator, if calibration used.\n",
    "- `X_test`: Testing features for plotting. Transformed if feature selection used.\n",
    "- `y_test`: Ground truth test labels for plotting.\n",
    "- `y_pred`: Test predictions for plotting.\n",
    "- Test metrics including precision, recall, f-1, as separate keys."
   ]
  },
  {
   "cell_type": "code",
   "execution_count": null,
   "metadata": {},
   "outputs": [],
   "source": [
    "print(run_RF.__doc__)"
   ]
  },
  {
   "cell_type": "markdown",
   "metadata": {},
   "source": [
    "### Examples\n",
    "\n",
    "Run baseline RF with no feature extraction, grid search, or calibration.\n",
    "```\n",
    "run_RF(X, y)\n",
    "```\n",
    "\n",
    "Run a custom RF with no feature extraction, grid search, or calibration.\n",
    "```\n",
    "run_RF(X, y, max_depth=5)\n",
    "```\n",
    "\n",
    "Run RF with grid search (5-CV), no calibration or feature extraction.\n",
    "\n",
    "```\n",
    "run_RF(X, y, grid_search=True)\n",
    "```\n",
    "\n",
    "Run RF with recursive feature selection. `estimator` and `num_features` are specific to the recursive feature extractor.\n",
    "\n",
    "```\n",
    "run_RF(X, y, feature_extraction_method=\"recursive\", estimator=RandomForestClassifier(), num_features=12)\n",
    "```\n",
    "\n",
    "Run RF with recursive feature selection, grid search with 10-CV, and calibration.\n",
    "\n",
    "```\n",
    "run_RF(\n",
    "    X,\n",
    "    y,\n",
    "    grid_search=True,\n",
    "    cv=10,\n",
    "    feature_extraction_method=\"sequential\",\n",
    "    calibration_method=\"isotonic\",\n",
    "    estimator=RandomForestClassifier(),\n",
    "    num_features=12,\n",
    ")\n",
    "```"
   ]
  },
  {
   "cell_type": "code",
   "execution_count": null,
   "metadata": {},
   "outputs": [],
   "source": [
    "# Examples for plotting demonstration\n",
    "results = run_RF(X, y, grid_search=True)\n",
    "results_calib = run_RF(X, y, grid_search=True, calibration_method=\"isotonic\")"
   ]
  },
  {
   "cell_type": "markdown",
   "metadata": {},
   "source": [
    "**IMPORTANT**: DO NOT run cross-validation again for evaluating the final model you get from the function. It was already run for model selection, and running it again on a final model can produce and overestimation of the true performance. `run_RF` already addresses this.\n",
    "\n",
    "## Feature Selection\n",
    "\n",
    "Feature selection is the process of selecting a subset of features, based on different criteria, to be used for modeling. This is built into `run_RF` and can easily be configured with the function's arguments. It is implemented as a `FeatureSelectionWrapper` class in `spectral_binaries/feature_selection.py`. This is necessary for several reasons:\n",
    "- Reducing overfitting\n",
    "- Improving accuracy because the model will learn from only informative features\n",
    "- Reducing computational complexity\n",
    "- Increasing interpretability\n",
    "\n",
    "Using FE might not always work but is good step for experimentation, anyway. There are two main types of feature selection that are currently implemented:\n",
    "- **Filter-based:** Feature selection based on statistical properties (chi-squared, correlation, mutual information, or ANOVA F-score). **NOTE:** These methods do not support negative values, and passing negative values into these extractors will cause an error. Normalize the data to the [0, 1] range before using a filter-based FE method.\n",
    "- **Wrapper-based:** Recursive feature elimination, and sequential feature selection. These will take significantly longer to run, but could lead to better performance than the former method.\n",
    "\n",
    "Refer to the documentation in `FeatureSelectionWrapper` for the pros and cons of both types.\n",
    "\n",
    "Example usage in `run_RF`:\n",
    "```\n",
    "run_RF(X, y, feature_selection_method=\"sequential\", estimator=RandomForestClassifier())\n",
    "```\n",
    "\n",
    "# Plots\n",
    "\n",
    "All the plotting functionality we need is implemented in `visualization.py`, and require the model, testing data, and predictions from the dictionary returned by `run_RF`.\n",
    "\n",
    "## Confusion Matrix"
   ]
  },
  {
   "cell_type": "code",
   "execution_count": null,
   "metadata": {},
   "outputs": [],
   "source": [
    "print(plot_confusion_matrix.__doc__)"
   ]
  },
  {
   "cell_type": "code",
   "execution_count": null,
   "metadata": {},
   "outputs": [],
   "source": [
    "plot_confusion_matrix(results[\"y_test\"], results[\"y_pred\"], title=\"Test Confusion Matrix\")"
   ]
  },
  {
   "cell_type": "markdown",
   "metadata": {},
   "source": [
    "## Feature Importance\n",
    "\n",
    "When plotting feature importance, if you did not calibrate the model, you can pass in as the model for `plot_feature_importance` `results[\"model\"]`. If you calibrated the model, instead pass in `results[\"estimator\"]`, which extracts the RF estimator from the calibration model."
   ]
  },
  {
   "cell_type": "code",
   "execution_count": null,
   "metadata": {},
   "outputs": [],
   "source": [
    "print(plot_feature_importance.__doc__)"
   ]
  },
  {
   "cell_type": "code",
   "execution_count": null,
   "metadata": {},
   "outputs": [],
   "source": [
    "# Uncalibrated\n",
    "plot_feature_importance(results[\"model\"], np.arange(X.shape[1]))"
   ]
  },
  {
   "cell_type": "code",
   "execution_count": null,
   "metadata": {},
   "outputs": [],
   "source": [
    "# Calibrated, with n = 5 as an example\n",
    "plot_feature_importance(results_calib[\"estimator\"], np.arange(X.shape[1]), n=5)"
   ]
  },
  {
   "cell_type": "markdown",
   "metadata": {},
   "source": [
    "## Other Visualizations\n",
    "\n",
    "You can produce these plots as well after fitting the RF model and making predictions, to get additional insight on model performance.\n",
    "\n",
    "### ROC Curve\n",
    "\n",
    "The **Receiver Operating Characteristic (ROC)** is a way of evaluating how well a model can classify positive (spectral binary) and negative (singles). The true positive rate is positive rate is plotted on the y-axis, while the false positive rate is plotted on the x-axis. To create an ROC curve, the model is first trained on a labeled dataset, and the threshold for positive predictions is varied to generate a set of pairs (FPR, TPR) at different threshold values.\n",
    "\n",
    "An ideal ROC curve is one that hugs the top-left corner (AUC = 1.00) of the graph, meaning the model has a high true positive rate and a low false positive rate at all threshold values.  A random classifier, on the other hand, would produce a diagonal line from the bottom-left to the top-right of the graph (AUC = 0.50), indicating that it performs no better than chance."
   ]
  },
  {
   "cell_type": "code",
   "execution_count": null,
   "metadata": {},
   "outputs": [],
   "source": [
    "print(plot_roc.__doc__)"
   ]
  },
  {
   "cell_type": "code",
   "execution_count": null,
   "metadata": {},
   "outputs": [],
   "source": [
    "plot_roc(results[\"model\"], results[\"X_test\"], results[\"y_test\"])"
   ]
  },
  {
   "cell_type": "markdown",
   "metadata": {},
   "source": [
    "### Precision-Recall Curve\n",
    "\n",
    "As you may know, **precision** is a measure of how accurate the model is when it predicts a positive result (i.e., binary system). If the model identifies a system as binary, precision measures how likely it is that the system is actually binary. **Recall** is a measure of how well the model can identify all the positive examples in the data. For example, if there are 100 spectral binaries in our dataset and the model only identifies 80 of them, our recall will be 80%.\n",
    "\n",
    "The **precision-recall curve** shows how precision and recall change as the threshold for a positive prediction is adjusted. The threshold determines how confident the model needs to be to predict a spectral binary. If the threshold is set high, the model will only predict a spectral binary when it is very certain, resulting in a high precision but low recall. If the threshold is set low, the model will predict more spectral binaries, resulting in a higher recall but lower precision."
   ]
  },
  {
   "cell_type": "code",
   "execution_count": null,
   "metadata": {},
   "outputs": [],
   "source": [
    "print(plot_prc.__doc__)"
   ]
  },
  {
   "cell_type": "code",
   "execution_count": null,
   "metadata": {},
   "outputs": [],
   "source": [
    "plot_prc(results[\"model\"], results[\"X_test\"], results[\"y_test\"])"
   ]
  },
  {
   "cell_type": "markdown",
   "metadata": {},
   "source": [
    "### Calibration Plots\n",
    "Calibration plots are a valuable tool for evaluating the performance of binary classification models, especially when predicting probabilities. In a binary classification problem, the model must predict whether a given instance belongs to one of two possible classes. However, in addition to simply making a prediction for each instance, many classification algorithms also provide a probability estimate of how likely the instance is to belong to each class.\n",
    "\n",
    "Calibration plots help us evaluate whether the predicted probabilities from a binary classification model are accurate. Specifically, a calibration plot compares the *predicted probabilities to the actual observed frequencies of each class*, across a range of predicted probabilities. In a well-calibrated model, the predicted probabilities should be close to the observed frequencies, which indicates that the model's probability estimates are reliable.\n",
    "\n",
    "*Why should we care about accurate probabilities?* The model's predicted probabilities provide insight into the model's overall performance and reliability of its predictions. For example, let's say a binary classification model is being used to predict whether a patient has a certain medical condition. The model produces a probability estimate for each patient, indicating the likelihood of having the condition. If the model's predicted probabilities are well-calibrated, a high probability estimate indicates that the patient is more likely to have the condition, and a low probability estimate indicates that the patient is less likely to have it.\n",
    "\n",
    "On the other hand, if the model's predicted probabilities are not well-calibrated, a high probability estimate may not accurately reflect the truth likelihood of the patient having the condition, leading to incorrect decisions are actions. The model may produce high probability estimates for patients who do not have the condition, leading to unnecessary testing or treatment.\n",
    "\n",
    "To create a calibration plot, we first divide the range of predicted probabilities into several \"bins\" or intervals. The actual observed frequencies of each class are then calculated for each bin. Then, we calculate and plot the average predicted probability for each bin A well-calibrated model will produce a calibration plot where the *points fall close to the diagonal line*, indicating that the predicted probabilities are close to the observed frequencies.\n",
    "\n",
    "*Why is all of this useful?* First, it allows us to assess the reliability of the model's probability estimates. Second, it can help us identify and correct systematic biases in the model's predictions. Finally, we can use it to compare the calibration of different models, helping us select the best model for our task."
   ]
  },
  {
   "cell_type": "code",
   "execution_count": null,
   "metadata": {},
   "outputs": [],
   "source": [
    "print(plot_calibration.__doc__)"
   ]
  },
  {
   "cell_type": "code",
   "execution_count": null,
   "metadata": {},
   "outputs": [],
   "source": [
    "plot_calibration(results_calib[\"model\"], results_calib[\"X_test\"], results_calib[\"y_test\"], 20)"
   ]
  },
  {
   "cell_type": "code",
   "execution_count": null,
   "metadata": {},
   "outputs": [],
   "source": [
    "plot_calibration(results_calib[\"model\"], results_calib[\"X_test\"], results_calib[\"y_test\"], 20, strategy=\"quantile\")"
   ]
  },
  {
   "cell_type": "markdown",
   "metadata": {},
   "source": [
    "As we can see, the model appears better calibrated when we adjust for sample size, using the `quantile` binning strategy.\n",
    "\n",
    "#### Choosing the Number of Bins\n",
    "\n",
    "Choosing the appropriate number of bins requires a trade-off between the granularity of the plot and the number of examples in each bin. There are some guidelines and heuristics that can be used as a starting point for choosing the number of bins.\n",
    "1. **Use a minimum of 10-15 bins.** Using fewer can result in a too coarse or smooth calibration plot.\n",
    "2. **Use a maximum of 20-30 bins.** Using more can result in a too granular calibration plot that may not be visually interpretable, and may lead to overfitting or instability of the calibration measurements due to small sample sizes in each bin.\n",
    "3. **Use a uniform or quantile-based binning.** Uniform binning involves diving the range of predicted probabilities into equally spaced intervals, while quantile-based binning involves dividing the range of predicted probabilities into intervals that contain roughly the same number of examples. Quantile-based binning can be more robust to outliers and skewed distributions, but may result in unevenly sized bins. You can pass in either a `uniform` or `quantile` strategy into `plot_calibration`. `uniform` is used by default.\n",
    "4. **Consider the sample size in each bin.** Ideally, each bin should contain a sufficient number of examples to ensure reliable calibration measurements. A commonly used heuristic is to require at least 5-10 examples in each bin, although this may vary depending on the size of the dataset and the variability of predicted probabilities.\n",
    "5. **Experiment with different binning schemes.** It is a generally good idea to experiment with different binning schemes and evaluate the resulting calibration plots using metrics such as Expected Calibration Error (ECE) or the Maximum Calibration Error (MCE). This can help identify the optimal number and type of bins for a given dataset model.\n",
    "\n",
    "#### ECE and MCE\n",
    "\n",
    "- The **Expected Calibration Error (ECE)** is a measure of the difference between the predicted probabilities and the true probabilities of the positive class, averaged over all bins of predicted probabilities. It is computed as the weighted average of the absolute difference between the average predicted probability and the true frequency of the positive class and each been, where the weights are the proportion of data points in each bin.\n",
    "- The **Maximum Calibration Error (MCE)** is simply the maximum absolute difference between the predicted probabilities and the true probabilities in any bin.\n",
    "\n",
    "#### Calibrating a Model\n",
    "\n",
    "Here are some common methods to calibrate the model.\n",
    "\n",
    "1. **Platt scaling:** Fit a logistic regression model to the predicted outputs of the original model on a validation set, where the target variable is the true binary class label. The logistic regression model can then be used to map the original outputs to calibrated probabilities.\n",
    "2. **Isotonic regression:** Fit a non-parametric model to the predicted outputs of the original model on a validation set. The non-parametric model fits a monotonically increasing function to the outputs, such that the mapping from predicted outputs to calibrated probabilities is also monotonically increasing.\n",
    "3. **Temperature scaling:** Scale the logits (unnormalized log probabilities) of the original model by a learnable scalar parameter called the temperature, which controls the confidence of the model's predictions. The temperature can be learned on a validation set using maximum likelihood estimation, by minimizing the negative log likelihood of the true binary class labels.\n",
    "\n",
    "You can calibrate the model by passing in either `sigmoid` (Platt) or `isotonic` to the `calibration_method` argument of `run_RF`. This is optional!"
   ]
  },
  {
   "cell_type": "code",
   "execution_count": null,
   "metadata": {},
   "outputs": [],
   "source": []
  },
  {
   "cell_type": "code",
   "execution_count": null,
   "outputs": [],
   "source": [],
   "metadata": {
    "collapsed": false
   }
  }
 ],
 "metadata": {
  "kernelspec": {
   "display_name": "Python 3",
   "language": "python",
   "name": "python3"
  },
  "language_info": {
   "codemirror_mode": {
    "name": "ipython",
    "version": 3
   },
   "file_extension": ".py",
   "mimetype": "text/x-python",
   "name": "python",
   "nbconvert_exporter": "python",
   "pygments_lexer": "ipython3",
   "version": "3.8.2"
  }
 },
 "nbformat": 4,
 "nbformat_minor": 1
}
