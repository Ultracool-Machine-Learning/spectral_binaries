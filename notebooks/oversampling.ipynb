{
 "cells": [
  {
   "cell_type": "code",
   "execution_count": null,
   "metadata": {
    "ExecuteTime": {
     "start_time": "2023-04-05T23:39:59.413075Z",
     "end_time": "2023-04-05T23:40:00.376481Z"
    }
   },
   "outputs": [],
   "source": [
    "import warnings\n",
    "\n",
    "import matplotlib.pyplot as plt\n",
    "import numpy as np\n",
    "import pandas as pd\n",
    "from tqdm import tqdm\n",
    "\n",
    "import spectral_binaries as sb\n",
    "from spectral_binaries.constants import NUM, SNR_BINS, SNR_CROSSOVER_TOL\n",
    "warnings.filterwarnings(\"ignore\")"
   ]
  },
  {
   "cell_type": "code",
   "execution_count": 50,
   "metadata": {
    "ExecuteTime": {
     "start_time": "2023-04-06T00:15:59.237139Z",
     "end_time": "2023-04-06T00:15:59.262700Z"
    }
   },
   "outputs": [],
   "source": [
    "df = pd.read_hdf(sb.DATA_FOLDER + \"single_spectra_with_synthphot.h5\", key=\"singles\")\n",
    "df = df.dropna(subset=[\"WAVEGRID\"])\n",
    "\n",
    "WAVEGRID = df[\"WAVEGRID\"].iloc[0]"
   ]
  },
  {
   "cell_type": "code",
   "execution_count": 53,
   "outputs": [],
   "source": [
    "np.save(sb.DATA_FOLDER + \"wavegrid.npy\", WAVEGRID)"
   ],
   "metadata": {
    "collapsed": false,
    "ExecuteTime": {
     "start_time": "2023-04-06T00:17:51.381866Z",
     "end_time": "2023-04-06T00:17:51.384059Z"
    }
   }
  },
  {
   "cell_type": "code",
   "execution_count": 9,
   "metadata": {
    "ExecuteTime": {
     "start_time": "2023-04-05T23:40:51.689670Z",
     "end_time": "2023-04-05T23:40:51.948790Z"
    }
   },
   "outputs": [],
   "source": [
    "df_flux = pd.DataFrame(df[\"FLUX\"].tolist()).add_prefix(\"flux_\")\n",
    "df_flux = df_flux.assign(spectral_type=df[\"SPT\"])\n",
    "df_flux = df_flux.assign(spectral_type=df_flux[\"spectral_type\"].str[:4])\n",
    "df_noise = pd.DataFrame(df[\"UNCERTAINTY\"].tolist()).add_prefix(\"unc_\")\n",
    "df = pd.concat([df_flux, df_noise], axis=1)"
   ]
  },
  {
   "cell_type": "code",
   "execution_count": 10,
   "metadata": {
    "ExecuteTime": {
     "start_time": "2023-04-05T23:40:52.617803Z",
     "end_time": "2023-04-05T23:40:52.701379Z"
    }
   },
   "outputs": [
    {
     "data": {
      "text/plain": "         flux_0        flux_1        flux_2        flux_3        flux_4  \\\n0  1.672499e-08  1.655940e-08  1.658669e-08  1.682406e-08  1.708547e-08   \n1  1.632853e-08  1.630633e-08  1.636388e-08  1.651997e-08  1.649871e-08   \n2  1.655195e-08  1.675343e-08  1.703754e-08  1.701382e-08  1.709034e-08   \n3  1.692575e-08  1.673746e-08  1.681820e-08  1.700432e-08  1.729889e-08   \n4  9.366333e-09  9.309978e-09  9.454448e-09  9.625293e-09  9.813402e-09   \n\n         flux_5        flux_6        flux_7        flux_8        flux_9  ...  \\\n0  1.713102e-08  1.671561e-08  1.648314e-08  1.633086e-08  1.632518e-08  ...   \n1  1.627791e-08  1.616394e-08  1.611972e-08  1.610504e-08  1.616226e-08  ...   \n2  1.697546e-08  1.690522e-08  1.690822e-08  1.680053e-08  1.677852e-08  ...   \n3  1.756854e-08  1.765144e-08  1.752056e-08  1.715138e-08  1.686506e-08  ...   \n4  9.900985e-09  9.837614e-09  9.728143e-09  1.005449e-08  9.949374e-09  ...   \n\n        unc_399       unc_400       unc_401       unc_402       unc_403  \\\n0  6.896006e-12  6.747350e-12  6.545798e-12  6.372711e-12  6.386528e-12   \n1  2.816642e-12  2.876539e-12  2.978667e-12  2.994860e-12  2.864537e-12   \n2  2.911525e-11  2.528184e-11  2.410808e-11  2.349843e-11  2.346956e-11   \n3  5.445626e-12  5.063282e-12  4.855634e-12  4.874336e-12  4.713995e-12   \n4  1.102293e-10  8.194994e-11  8.459571e-11  9.686215e-11  1.070134e-10   \n\n        unc_404       unc_405       unc_406       unc_407       unc_408  \n0  6.375193e-12  6.491666e-12  6.550896e-12  6.489186e-12  6.482373e-12  \n1  2.769406e-12  2.701306e-12  2.671008e-12  2.663559e-12  2.656147e-12  \n2  2.305766e-11  2.251533e-11  2.331378e-11  2.229647e-11  2.210986e-11  \n3  4.719818e-12  4.780033e-12  4.829315e-12  4.879436e-12  4.817640e-12  \n4  5.313086e-11  1.190048e-11  3.619160e-11  4.776696e-11  4.774044e-11  \n\n[5 rows x 819 columns]",
      "text/html": "<div>\n<style scoped>\n    .dataframe tbody tr th:only-of-type {\n        vertical-align: middle;\n    }\n\n    .dataframe tbody tr th {\n        vertical-align: top;\n    }\n\n    .dataframe thead th {\n        text-align: right;\n    }\n</style>\n<table border=\"1\" class=\"dataframe\">\n  <thead>\n    <tr style=\"text-align: right;\">\n      <th></th>\n      <th>flux_0</th>\n      <th>flux_1</th>\n      <th>flux_2</th>\n      <th>flux_3</th>\n      <th>flux_4</th>\n      <th>flux_5</th>\n      <th>flux_6</th>\n      <th>flux_7</th>\n      <th>flux_8</th>\n      <th>flux_9</th>\n      <th>...</th>\n      <th>unc_399</th>\n      <th>unc_400</th>\n      <th>unc_401</th>\n      <th>unc_402</th>\n      <th>unc_403</th>\n      <th>unc_404</th>\n      <th>unc_405</th>\n      <th>unc_406</th>\n      <th>unc_407</th>\n      <th>unc_408</th>\n    </tr>\n  </thead>\n  <tbody>\n    <tr>\n      <th>0</th>\n      <td>1.672499e-08</td>\n      <td>1.655940e-08</td>\n      <td>1.658669e-08</td>\n      <td>1.682406e-08</td>\n      <td>1.708547e-08</td>\n      <td>1.713102e-08</td>\n      <td>1.671561e-08</td>\n      <td>1.648314e-08</td>\n      <td>1.633086e-08</td>\n      <td>1.632518e-08</td>\n      <td>...</td>\n      <td>6.896006e-12</td>\n      <td>6.747350e-12</td>\n      <td>6.545798e-12</td>\n      <td>6.372711e-12</td>\n      <td>6.386528e-12</td>\n      <td>6.375193e-12</td>\n      <td>6.491666e-12</td>\n      <td>6.550896e-12</td>\n      <td>6.489186e-12</td>\n      <td>6.482373e-12</td>\n    </tr>\n    <tr>\n      <th>1</th>\n      <td>1.632853e-08</td>\n      <td>1.630633e-08</td>\n      <td>1.636388e-08</td>\n      <td>1.651997e-08</td>\n      <td>1.649871e-08</td>\n      <td>1.627791e-08</td>\n      <td>1.616394e-08</td>\n      <td>1.611972e-08</td>\n      <td>1.610504e-08</td>\n      <td>1.616226e-08</td>\n      <td>...</td>\n      <td>2.816642e-12</td>\n      <td>2.876539e-12</td>\n      <td>2.978667e-12</td>\n      <td>2.994860e-12</td>\n      <td>2.864537e-12</td>\n      <td>2.769406e-12</td>\n      <td>2.701306e-12</td>\n      <td>2.671008e-12</td>\n      <td>2.663559e-12</td>\n      <td>2.656147e-12</td>\n    </tr>\n    <tr>\n      <th>2</th>\n      <td>1.655195e-08</td>\n      <td>1.675343e-08</td>\n      <td>1.703754e-08</td>\n      <td>1.701382e-08</td>\n      <td>1.709034e-08</td>\n      <td>1.697546e-08</td>\n      <td>1.690522e-08</td>\n      <td>1.690822e-08</td>\n      <td>1.680053e-08</td>\n      <td>1.677852e-08</td>\n      <td>...</td>\n      <td>2.911525e-11</td>\n      <td>2.528184e-11</td>\n      <td>2.410808e-11</td>\n      <td>2.349843e-11</td>\n      <td>2.346956e-11</td>\n      <td>2.305766e-11</td>\n      <td>2.251533e-11</td>\n      <td>2.331378e-11</td>\n      <td>2.229647e-11</td>\n      <td>2.210986e-11</td>\n    </tr>\n    <tr>\n      <th>3</th>\n      <td>1.692575e-08</td>\n      <td>1.673746e-08</td>\n      <td>1.681820e-08</td>\n      <td>1.700432e-08</td>\n      <td>1.729889e-08</td>\n      <td>1.756854e-08</td>\n      <td>1.765144e-08</td>\n      <td>1.752056e-08</td>\n      <td>1.715138e-08</td>\n      <td>1.686506e-08</td>\n      <td>...</td>\n      <td>5.445626e-12</td>\n      <td>5.063282e-12</td>\n      <td>4.855634e-12</td>\n      <td>4.874336e-12</td>\n      <td>4.713995e-12</td>\n      <td>4.719818e-12</td>\n      <td>4.780033e-12</td>\n      <td>4.829315e-12</td>\n      <td>4.879436e-12</td>\n      <td>4.817640e-12</td>\n    </tr>\n    <tr>\n      <th>4</th>\n      <td>9.366333e-09</td>\n      <td>9.309978e-09</td>\n      <td>9.454448e-09</td>\n      <td>9.625293e-09</td>\n      <td>9.813402e-09</td>\n      <td>9.900985e-09</td>\n      <td>9.837614e-09</td>\n      <td>9.728143e-09</td>\n      <td>1.005449e-08</td>\n      <td>9.949374e-09</td>\n      <td>...</td>\n      <td>1.102293e-10</td>\n      <td>8.194994e-11</td>\n      <td>8.459571e-11</td>\n      <td>9.686215e-11</td>\n      <td>1.070134e-10</td>\n      <td>5.313086e-11</td>\n      <td>1.190048e-11</td>\n      <td>3.619160e-11</td>\n      <td>4.776696e-11</td>\n      <td>4.774044e-11</td>\n    </tr>\n  </tbody>\n</table>\n<p>5 rows × 819 columns</p>\n</div>"
     },
     "execution_count": 10,
     "metadata": {},
     "output_type": "execute_result"
    }
   ],
   "source": [
    "df.head()"
   ]
  },
  {
   "cell_type": "code",
   "execution_count": 11,
   "metadata": {
    "ExecuteTime": {
     "start_time": "2023-04-05T23:40:53.382930Z",
     "end_time": "2023-04-05T23:40:53.554221Z"
    }
   },
   "outputs": [
    {
     "data": {
      "text/plain": "M8.0    257\nL1.0    225\nL7.0    174\nL2.0    147\nM9.0    109\nL6.0    109\nL0.0     95\nM7.0     87\nT0.0     68\nM6.0     59\nT1.0     54\nL5.0     53\nL4.0     47\nL9.0     47\nL3.0     46\nM5.0     40\nT5.0     39\nT6.0     36\nT7.0     31\nM4.0     29\nM3.0     23\nT3.0     23\nL8.0     22\nT2.0     21\nT4.0     16\nM1.0     14\nT8.0     13\nM0.0      4\nT9.0      3\nM2.0      2\nName: spectral_type, dtype: int64"
     },
     "execution_count": 11,
     "metadata": {},
     "output_type": "execute_result"
    }
   ],
   "source": [
    "df[\"spectral_type\"].value_counts()"
   ]
  },
  {
   "cell_type": "code",
   "execution_count": 13,
   "metadata": {
    "ExecuteTime": {
     "start_time": "2023-04-05T23:41:22.812612Z",
     "end_time": "2023-04-05T23:41:23.963653Z"
    }
   },
   "outputs": [
    {
     "data": {
      "text/plain": "<Figure size 640x480 with 1 Axes>",
      "image/png": "[encoded data removed]"
     },
     "metadata": {},
     "output_type": "display_data"
    }
   ],
   "source": [
    "df = df.assign(\n",
    "    snr=df.apply(\n",
    "        lambda x: sb.measureSN(\n",
    "            WAVEGRID,\n",
    "            x.filter(like=\"flux\").values.astype(float),\n",
    "            x.filter(like=\"unc\").values.astype(float),\n",
    "        ),\n",
    "        axis=1,\n",
    "    )\n",
    ")\n",
    "df[\"snr\"].hist();"
   ]
  },
  {
   "cell_type": "code",
   "execution_count": 30,
   "metadata": {
    "ExecuteTime": {
     "start_time": "2023-04-05T23:57:44.216480Z",
     "end_time": "2023-04-06T00:01:05.634014Z"
    }
   },
   "outputs": [
    {
     "name": "stdout",
     "output_type": "stream",
     "text": [
      "Oversampling M0.0...\n"
     ]
    },
    {
     "name": "stderr",
     "output_type": "stream",
     "text": [
      "100%|██████████| 8/8 [00:06<00:00,  1.20it/s]\n"
     ]
    },
    {
     "name": "stdout",
     "output_type": "stream",
     "text": [
      "Oversampling M1.0...\n"
     ]
    },
    {
     "name": "stderr",
     "output_type": "stream",
     "text": [
      "100%|██████████| 8/8 [00:06<00:00,  1.26it/s]\n"
     ]
    },
    {
     "name": "stdout",
     "output_type": "stream",
     "text": [
      "Oversampling M2.0...\n"
     ]
    },
    {
     "name": "stderr",
     "output_type": "stream",
     "text": [
      "100%|██████████| 8/8 [00:07<00:00,  1.13it/s]\n"
     ]
    },
    {
     "name": "stdout",
     "output_type": "stream",
     "text": [
      "Oversampling M3.0...\n"
     ]
    },
    {
     "name": "stderr",
     "output_type": "stream",
     "text": [
      "100%|██████████| 8/8 [00:06<00:00,  1.18it/s]\n"
     ]
    },
    {
     "name": "stdout",
     "output_type": "stream",
     "text": [
      "Oversampling M4.0...\n"
     ]
    },
    {
     "name": "stderr",
     "output_type": "stream",
     "text": [
      "100%|██████████| 8/8 [00:06<00:00,  1.22it/s]\n"
     ]
    },
    {
     "name": "stdout",
     "output_type": "stream",
     "text": [
      "Oversampling M5.0...\n"
     ]
    },
    {
     "name": "stderr",
     "output_type": "stream",
     "text": [
      "100%|██████████| 8/8 [00:06<00:00,  1.24it/s]\n"
     ]
    },
    {
     "name": "stdout",
     "output_type": "stream",
     "text": [
      "Oversampling M6.0...\n"
     ]
    },
    {
     "name": "stderr",
     "output_type": "stream",
     "text": [
      "100%|██████████| 8/8 [00:06<00:00,  1.25it/s]\n"
     ]
    },
    {
     "name": "stdout",
     "output_type": "stream",
     "text": [
      "Oversampling M7.0...\n"
     ]
    },
    {
     "name": "stderr",
     "output_type": "stream",
     "text": [
      "100%|██████████| 8/8 [00:06<00:00,  1.23it/s]\n"
     ]
    },
    {
     "name": "stdout",
     "output_type": "stream",
     "text": [
      "Oversampling M8.0...\n"
     ]
    },
    {
     "name": "stderr",
     "output_type": "stream",
     "text": [
      "100%|██████████| 8/8 [00:07<00:00,  1.12it/s]\n"
     ]
    },
    {
     "name": "stdout",
     "output_type": "stream",
     "text": [
      "Oversampling M9.0...\n"
     ]
    },
    {
     "name": "stderr",
     "output_type": "stream",
     "text": [
      "100%|██████████| 8/8 [00:06<00:00,  1.21it/s]\n"
     ]
    },
    {
     "name": "stdout",
     "output_type": "stream",
     "text": [
      "Oversampling L0.0...\n"
     ]
    },
    {
     "name": "stderr",
     "output_type": "stream",
     "text": [
      "100%|██████████| 8/8 [00:06<00:00,  1.24it/s]\n"
     ]
    },
    {
     "name": "stdout",
     "output_type": "stream",
     "text": [
      "Oversampling L1.0...\n"
     ]
    },
    {
     "name": "stderr",
     "output_type": "stream",
     "text": [
      "100%|██████████| 8/8 [00:06<00:00,  1.19it/s]\n"
     ]
    },
    {
     "name": "stdout",
     "output_type": "stream",
     "text": [
      "Oversampling L2.0...\n"
     ]
    },
    {
     "name": "stderr",
     "output_type": "stream",
     "text": [
      "100%|██████████| 8/8 [00:06<00:00,  1.20it/s]\n"
     ]
    },
    {
     "name": "stdout",
     "output_type": "stream",
     "text": [
      "Oversampling L3.0...\n"
     ]
    },
    {
     "name": "stderr",
     "output_type": "stream",
     "text": [
      "100%|██████████| 8/8 [00:06<00:00,  1.22it/s]\n"
     ]
    },
    {
     "name": "stdout",
     "output_type": "stream",
     "text": [
      "Oversampling L4.0...\n"
     ]
    },
    {
     "name": "stderr",
     "output_type": "stream",
     "text": [
      "100%|██████████| 8/8 [00:06<00:00,  1.23it/s]\n"
     ]
    },
    {
     "name": "stdout",
     "output_type": "stream",
     "text": [
      "Oversampling L5.0...\n"
     ]
    },
    {
     "name": "stderr",
     "output_type": "stream",
     "text": [
      "100%|██████████| 8/8 [00:06<00:00,  1.22it/s]\n"
     ]
    },
    {
     "name": "stdout",
     "output_type": "stream",
     "text": [
      "Oversampling L6.0...\n"
     ]
    },
    {
     "name": "stderr",
     "output_type": "stream",
     "text": [
      "100%|██████████| 8/8 [00:06<00:00,  1.17it/s]\n"
     ]
    },
    {
     "name": "stdout",
     "output_type": "stream",
     "text": [
      "Oversampling L7.0...\n"
     ]
    },
    {
     "name": "stderr",
     "output_type": "stream",
     "text": [
      "100%|██████████| 8/8 [00:06<00:00,  1.17it/s]\n"
     ]
    },
    {
     "name": "stdout",
     "output_type": "stream",
     "text": [
      "Oversampling L8.0...\n"
     ]
    },
    {
     "name": "stderr",
     "output_type": "stream",
     "text": [
      "100%|██████████| 8/8 [00:06<00:00,  1.19it/s]\n"
     ]
    },
    {
     "name": "stdout",
     "output_type": "stream",
     "text": [
      "Oversampling L9.0...\n"
     ]
    },
    {
     "name": "stderr",
     "output_type": "stream",
     "text": [
      "100%|██████████| 8/8 [00:06<00:00,  1.15it/s]\n"
     ]
    },
    {
     "name": "stdout",
     "output_type": "stream",
     "text": [
      "Oversampling T0.0...\n"
     ]
    },
    {
     "name": "stderr",
     "output_type": "stream",
     "text": [
      "100%|██████████| 8/8 [00:06<00:00,  1.22it/s]\n"
     ]
    },
    {
     "name": "stdout",
     "output_type": "stream",
     "text": [
      "Oversampling T1.0...\n"
     ]
    },
    {
     "name": "stderr",
     "output_type": "stream",
     "text": [
      "100%|██████████| 8/8 [00:06<00:00,  1.22it/s]\n"
     ]
    },
    {
     "name": "stdout",
     "output_type": "stream",
     "text": [
      "Oversampling T2.0...\n"
     ]
    },
    {
     "name": "stderr",
     "output_type": "stream",
     "text": [
      "100%|██████████| 8/8 [00:06<00:00,  1.24it/s]\n"
     ]
    },
    {
     "name": "stdout",
     "output_type": "stream",
     "text": [
      "Oversampling T3.0...\n"
     ]
    },
    {
     "name": "stderr",
     "output_type": "stream",
     "text": [
      "100%|██████████| 8/8 [00:06<00:00,  1.19it/s]\n"
     ]
    },
    {
     "name": "stdout",
     "output_type": "stream",
     "text": [
      "Oversampling T4.0...\n"
     ]
    },
    {
     "name": "stderr",
     "output_type": "stream",
     "text": [
      "100%|██████████| 8/8 [00:06<00:00,  1.19it/s]\n"
     ]
    },
    {
     "name": "stdout",
     "output_type": "stream",
     "text": [
      "Oversampling T5.0...\n"
     ]
    },
    {
     "name": "stderr",
     "output_type": "stream",
     "text": [
      "100%|██████████| 8/8 [00:06<00:00,  1.21it/s]\n"
     ]
    },
    {
     "name": "stdout",
     "output_type": "stream",
     "text": [
      "Oversampling T6.0...\n"
     ]
    },
    {
     "name": "stderr",
     "output_type": "stream",
     "text": [
      "100%|██████████| 8/8 [00:06<00:00,  1.20it/s]\n"
     ]
    },
    {
     "name": "stdout",
     "output_type": "stream",
     "text": [
      "Oversampling T7.0...\n"
     ]
    },
    {
     "name": "stderr",
     "output_type": "stream",
     "text": [
      "100%|██████████| 8/8 [00:07<00:00,  1.10it/s]\n"
     ]
    },
    {
     "name": "stdout",
     "output_type": "stream",
     "text": [
      "Oversampling T8.0...\n"
     ]
    },
    {
     "name": "stderr",
     "output_type": "stream",
     "text": [
      "100%|██████████| 8/8 [00:06<00:00,  1.16it/s]\n"
     ]
    },
    {
     "name": "stdout",
     "output_type": "stream",
     "text": [
      "Oversampling T9.0...\n"
     ]
    },
    {
     "name": "stderr",
     "output_type": "stream",
     "text": [
      "100%|██████████| 8/8 [00:07<00:00,  1.12it/s]\n"
     ]
    }
   ],
   "source": [
    "# Bins: [0,10], [10, 25], [25, 50], ..., [100, max]\n",
    "\n",
    "# Start from highest 150+ <- select all sources >= 150 SNR\n",
    "# Vary it such that in range [150, original SNR]\n",
    "# Then [100, max] SNR stars <- resample such that SNR is [100 to 150]\n",
    "# Then [50, max] <- resample from all of these such that SNR is [50 to 100]\n",
    "\n",
    "\n",
    "# Start at highest bin, copy with no change/duplicate\n",
    "# If there is a lot of different variation in the lower SNR bins, maybe down-sample to reach level of representation of the higher bin\n",
    "def bin_snr(_df, snr_col):\n",
    "    _bins = [0, 10, 25, 50, 75, 100, 150, 200, 10000]\n",
    "    _df[f\"{snr_col}_bins\"] = pd.cut(_df[snr_col], _bins)\n",
    "    return _df\n",
    "\n",
    "\n",
    "def get_new_scale(\n",
    "    wave, _flux, _unc, lower, upper, bin_tol, _rng=[1.2, 1.35], verbose=0\n",
    "):\n",
    "    if verbose > 0:\n",
    "        print(f\"SNR lower bound: {lower}, SNR upper bound: {upper}\")\n",
    "    lower = lower + bin_tol\n",
    "    upper = upper - bin_tol\n",
    "    if upper - lower < 1:\n",
    "        upper = lower + 1\n",
    "    desired_snr = np.random.randint(lower, upper, 1)[0]\n",
    "    _idx = np.where((wave <= _rng[1]) & (wave >= _rng[0]))\n",
    "    _scale = np.nanmedian(_flux[_idx] / (desired_snr * _unc[_idx]))\n",
    "    return desired_snr, _scale\n",
    "\n",
    "\n",
    "def target_snr(selected_stars, _lower_bound, _upper_bound, bin_tol, num_oversample):\n",
    "    results = []\n",
    "    for _ in range(num_oversample):\n",
    "        for i, row in selected_stars.iterrows():\n",
    "            _upper_bound = min(_upper_bound, row[\"snr\"])\n",
    "            flux_row = row.filter(like=\"flux\").values.astype(float)\n",
    "            unc_row = row.filter(like=\"unc\").values.astype(float)\n",
    "            _target_snr, new_scale = get_new_scale(\n",
    "                WAVEGRID, flux_row, unc_row, _lower_bound, _upper_bound, bin_tol\n",
    "            )\n",
    "            new_flux, new_unc = sb.addNoise(flux_row, unc_row, new_scale)\n",
    "            final_snr = sb.measureSN(WAVEGRID, new_flux, new_unc)\n",
    "            res = {\n",
    "                \"flux\": new_flux,\n",
    "                \"unc\": new_unc,\n",
    "                \"original_snr\": row[\"snr\"],\n",
    "                \"target_snr\": _target_snr,\n",
    "                \"noise_scale\": new_scale,\n",
    "                \"final_snr\": final_snr,\n",
    "            }\n",
    "            results.append(res)\n",
    "    res_df = pd.DataFrame(results)\n",
    "    res_df = bin_snr(res_df, \"final_snr\")\n",
    "    return res_df\n",
    "\n",
    "\n",
    "def oversample_spectral_type(star_df, spectral_type):\n",
    "    spectral_type_df = star_df.query(f\"spectral_type == '{spectral_type}'\")\n",
    "    spectral_type_df = bin_snr(spectral_type_df, \"snr\")\n",
    "    spectral_type_over = []\n",
    "    for b in tqdm(SNR_BINS):\n",
    "        if b == pd.Interval(0, 10):\n",
    "            bin_tol = 1\n",
    "        else:\n",
    "            bin_tol = 5\n",
    "        lower_bound, upper_bound = b.left, b.right\n",
    "        stars_select = spectral_type_df.query(f\"snr > {lower_bound}\")\n",
    "        if len(stars_select) == 0:\n",
    "            stars_select = spectral_type_df.query(\n",
    "                f\"snr == {spectral_type_df['snr'].max()}\"\n",
    "            )\n",
    "        bin_df = target_snr(\n",
    "            stars_select,\n",
    "            lower_bound,\n",
    "            upper_bound,\n",
    "            bin_tol,\n",
    "            ((NUM + SNR_CROSSOVER_TOL) // len(stars_select)) + 1,\n",
    "        )\n",
    "        bin_df = bin_df.assign(\n",
    "            final_target_diff=(bin_df[\"final_snr\"] - bin_df[\"target_snr\"])\n",
    "            .diff()\n",
    "            .abs()\n",
    "        ).reset_index(drop=True)\n",
    "        bin_df = bin_df.sort_values(by=\"final_target_diff\").iloc[:NUM]\n",
    "        spectral_type_over.append(bin_df)\n",
    "\n",
    "    spectral_type_over = pd.concat(spectral_type_over)\n",
    "    spectral_type_over = spectral_type_over.assign(spectral_type=spectral_type)\n",
    "    return spectral_type_over\n",
    "\n",
    "\n",
    "types = df[\"spectral_type\"].unique()\n",
    "oversampled = []\n",
    "\n",
    "for t in types:\n",
    "    print(f\"Oversampling {t}...\")\n",
    "    over_spectral_df = oversample_spectral_type(df, t)\n",
    "    oversampled.append(over_spectral_df)\n",
    "\n",
    "oversampled = pd.concat(oversampled)"
   ]
  },
  {
   "cell_type": "code",
   "execution_count": 31,
   "metadata": {
    "ExecuteTime": {
     "start_time": "2023-04-06T00:01:42.233421Z",
     "end_time": "2023-04-06T00:01:42.367571Z"
    }
   },
   "outputs": [
    {
     "data": {
      "text/plain": "<Figure size 640x480 with 1 Axes>",
      "image/png": "[encoded data removed]"
     },
     "metadata": {},
     "output_type": "display_data"
    }
   ],
   "source": [
    "oversampled.groupby(\"final_snr_bins\")[\"final_snr\"].hist();spectral_type"
   ]
  },
  {
   "cell_type": "code",
   "execution_count": 33,
   "outputs": [],
   "source": [
    "oversampled = oversampled.groupby([\"spectral_type\", \"final_snr_bins\"]).head(NUM)"
   ],
   "metadata": {
    "collapsed": false,
    "ExecuteTime": {
     "start_time": "2023-04-06T00:03:18.863312Z",
     "end_time": "2023-04-06T00:03:18.910553Z"
    }
   }
  },
  {
   "cell_type": "code",
   "execution_count": 34,
   "metadata": {
    "ExecuteTime": {
     "start_time": "2023-04-06T00:03:19.543322Z",
     "end_time": "2023-04-06T00:03:19.587309Z"
    }
   },
   "outputs": [
    {
     "data": {
      "text/plain": "spectral_type  final_snr_bins\nL0.0           (0, 10]           1000\n               (10, 25]          1000\n               (25, 50]          1000\n               (50, 75]          1000\n               (75, 100]         1000\n                                 ... \nT9.0           (50, 75]          1000\n               (75, 100]            0\n               (100, 150]           0\n               (150, 200]           0\n               (200, 10000]         0\nLength: 240, dtype: int64"
     },
     "execution_count": 34,
     "metadata": {},
     "output_type": "execute_result"
    }
   ],
   "source": [
    "oversampled.groupby([\"spectral_type\", \"final_snr_bins\"]).size()"
   ]
  },
  {
   "cell_type": "code",
   "execution_count": 42,
   "outputs": [],
   "source": [
    "over_flux = pd.DataFrame(oversampled[\"flux\"].tolist()).add_prefix(\"flux_\")\n",
    "over_unc = pd.DataFrame(oversampled[\"unc\"].tolist()).add_prefix(\"unc_\")\n",
    "oversampled_df = pd.concat([over_flux, over_unc], axis=1)"
   ],
   "metadata": {
    "collapsed": false,
    "ExecuteTime": {
     "start_time": "2023-04-06T00:09:29.620476Z",
     "end_time": "2023-04-06T00:10:05.602674Z"
    }
   }
  },
  {
   "cell_type": "code",
   "execution_count": 45,
   "outputs": [],
   "source": [
    "oversampled_df = oversampled_df.reset_index(drop=True)\n",
    "oversampled = oversampled.reset_index(drop=True)\n",
    "oversampled_df[[\"snr\", \"snr_bin\", \"spectral_type\"]] = oversampled[[\"final_snr\", \"final_snr_bins\", \"spectral_type\"]]"
   ],
   "metadata": {
    "collapsed": false,
    "ExecuteTime": {
     "start_time": "2023-04-06T00:11:27.937507Z",
     "end_time": "2023-04-06T00:11:29.100431Z"
    }
   }
  },
  {
   "cell_type": "code",
   "execution_count": 47,
   "outputs": [
    {
     "data": {
      "text/plain": "         flux_0        flux_1        flux_2        flux_3        flux_4  \\\n0  1.659091e-08  1.673770e-08  1.697480e-08  1.704410e-08  1.707763e-08   \n1  1.638842e-08  1.695836e-08  1.706520e-08  1.705089e-08  1.713664e-08   \n2  1.650934e-08  1.666313e-08  1.695188e-08  1.696640e-08  1.692128e-08   \n3  1.688669e-08  1.681928e-08  1.673371e-08  1.696475e-08  1.741652e-08   \n4  1.637496e-08  1.617614e-08  1.636264e-08  1.649530e-08  1.645160e-08   \n\n         flux_5        flux_6        flux_7        flux_8        flux_9  ...  \\\n0  1.688355e-08  1.676833e-08  1.682165e-08  1.683034e-08  1.683412e-08  ...   \n1  1.692533e-08  1.693817e-08  1.683467e-08  1.681457e-08  1.669283e-08  ...   \n2  1.720500e-08  1.688048e-08  1.692756e-08  1.706618e-08  1.673135e-08  ...   \n3  1.760156e-08  1.756067e-08  1.755815e-08  1.713051e-08  1.692617e-08  ...   \n4  1.625775e-08  1.617550e-08  1.612956e-08  1.616505e-08  1.617210e-08  ...   \n\n        unc_402       unc_403       unc_404       unc_405       unc_406  \\\n0  4.621796e-11  4.616120e-11  4.535105e-11  4.428435e-11  4.585478e-11   \n1  6.404489e-11  6.396623e-11  6.284359e-11  6.136546e-11  6.354163e-11   \n2  5.467247e-11  5.460532e-11  5.364697e-11  5.238514e-11  5.424285e-11   \n3  2.240217e-11  2.166525e-11  2.169201e-11  2.196876e-11  2.219525e-11   \n4  1.130100e-11  1.080923e-11  1.045025e-11  1.019328e-11  1.007895e-11   \n\n        unc_407       unc_408         snr       snr_bin  spectral_type  \n0  4.385389e-11  4.348686e-11  289.482110  (200, 10000]           M0.0  \n1  6.076896e-11  6.026036e-11  209.361706  (200, 10000]           M0.0  \n2  5.187594e-11  5.144177e-11  244.854805  (200, 10000]           M0.0  \n3  2.242561e-11  2.214160e-11  277.044679  (200, 10000]           M0.0  \n4  1.005085e-11  1.002288e-11  420.362585  (200, 10000]           M0.0  \n\n[5 rows x 821 columns]",
      "text/html": "<div>\n<style scoped>\n    .dataframe tbody tr th:only-of-type {\n        vertical-align: middle;\n    }\n\n    .dataframe tbody tr th {\n        vertical-align: top;\n    }\n\n    .dataframe thead th {\n        text-align: right;\n    }\n</style>\n<table border=\"1\" class=\"dataframe\">\n  <thead>\n    <tr style=\"text-align: right;\">\n      <th></th>\n      <th>flux_0</th>\n      <th>flux_1</th>\n      <th>flux_2</th>\n      <th>flux_3</th>\n      <th>flux_4</th>\n      <th>flux_5</th>\n      <th>flux_6</th>\n      <th>flux_7</th>\n      <th>flux_8</th>\n      <th>flux_9</th>\n      <th>...</th>\n      <th>unc_402</th>\n      <th>unc_403</th>\n      <th>unc_404</th>\n      <th>unc_405</th>\n      <th>unc_406</th>\n      <th>unc_407</th>\n      <th>unc_408</th>\n      <th>snr</th>\n      <th>snr_bin</th>\n      <th>spectral_type</th>\n    </tr>\n  </thead>\n  <tbody>\n    <tr>\n      <th>0</th>\n      <td>1.659091e-08</td>\n      <td>1.673770e-08</td>\n      <td>1.697480e-08</td>\n      <td>1.704410e-08</td>\n      <td>1.707763e-08</td>\n      <td>1.688355e-08</td>\n      <td>1.676833e-08</td>\n      <td>1.682165e-08</td>\n      <td>1.683034e-08</td>\n      <td>1.683412e-08</td>\n      <td>...</td>\n      <td>4.621796e-11</td>\n      <td>4.616120e-11</td>\n      <td>4.535105e-11</td>\n      <td>4.428435e-11</td>\n      <td>4.585478e-11</td>\n      <td>4.385389e-11</td>\n      <td>4.348686e-11</td>\n      <td>289.482110</td>\n      <td>(200, 10000]</td>\n      <td>M0.0</td>\n    </tr>\n    <tr>\n      <th>1</th>\n      <td>1.638842e-08</td>\n      <td>1.695836e-08</td>\n      <td>1.706520e-08</td>\n      <td>1.705089e-08</td>\n      <td>1.713664e-08</td>\n      <td>1.692533e-08</td>\n      <td>1.693817e-08</td>\n      <td>1.683467e-08</td>\n      <td>1.681457e-08</td>\n      <td>1.669283e-08</td>\n      <td>...</td>\n      <td>6.404489e-11</td>\n      <td>6.396623e-11</td>\n      <td>6.284359e-11</td>\n      <td>6.136546e-11</td>\n      <td>6.354163e-11</td>\n      <td>6.076896e-11</td>\n      <td>6.026036e-11</td>\n      <td>209.361706</td>\n      <td>(200, 10000]</td>\n      <td>M0.0</td>\n    </tr>\n    <tr>\n      <th>2</th>\n      <td>1.650934e-08</td>\n      <td>1.666313e-08</td>\n      <td>1.695188e-08</td>\n      <td>1.696640e-08</td>\n      <td>1.692128e-08</td>\n      <td>1.720500e-08</td>\n      <td>1.688048e-08</td>\n      <td>1.692756e-08</td>\n      <td>1.706618e-08</td>\n      <td>1.673135e-08</td>\n      <td>...</td>\n      <td>5.467247e-11</td>\n      <td>5.460532e-11</td>\n      <td>5.364697e-11</td>\n      <td>5.238514e-11</td>\n      <td>5.424285e-11</td>\n      <td>5.187594e-11</td>\n      <td>5.144177e-11</td>\n      <td>244.854805</td>\n      <td>(200, 10000]</td>\n      <td>M0.0</td>\n    </tr>\n    <tr>\n      <th>3</th>\n      <td>1.688669e-08</td>\n      <td>1.681928e-08</td>\n      <td>1.673371e-08</td>\n      <td>1.696475e-08</td>\n      <td>1.741652e-08</td>\n      <td>1.760156e-08</td>\n      <td>1.756067e-08</td>\n      <td>1.755815e-08</td>\n      <td>1.713051e-08</td>\n      <td>1.692617e-08</td>\n      <td>...</td>\n      <td>2.240217e-11</td>\n      <td>2.166525e-11</td>\n      <td>2.169201e-11</td>\n      <td>2.196876e-11</td>\n      <td>2.219525e-11</td>\n      <td>2.242561e-11</td>\n      <td>2.214160e-11</td>\n      <td>277.044679</td>\n      <td>(200, 10000]</td>\n      <td>M0.0</td>\n    </tr>\n    <tr>\n      <th>4</th>\n      <td>1.637496e-08</td>\n      <td>1.617614e-08</td>\n      <td>1.636264e-08</td>\n      <td>1.649530e-08</td>\n      <td>1.645160e-08</td>\n      <td>1.625775e-08</td>\n      <td>1.617550e-08</td>\n      <td>1.612956e-08</td>\n      <td>1.616505e-08</td>\n      <td>1.617210e-08</td>\n      <td>...</td>\n      <td>1.130100e-11</td>\n      <td>1.080923e-11</td>\n      <td>1.045025e-11</td>\n      <td>1.019328e-11</td>\n      <td>1.007895e-11</td>\n      <td>1.005085e-11</td>\n      <td>1.002288e-11</td>\n      <td>420.362585</td>\n      <td>(200, 10000]</td>\n      <td>M0.0</td>\n    </tr>\n  </tbody>\n</table>\n<p>5 rows × 821 columns</p>\n</div>"
     },
     "execution_count": 47,
     "metadata": {},
     "output_type": "execute_result"
    }
   ],
   "source": [
    "oversampled_df.head()"
   ],
   "metadata": {
    "collapsed": false,
    "ExecuteTime": {
     "start_time": "2023-04-06T00:11:44.085758Z",
     "end_time": "2023-04-06T00:11:44.100555Z"
    }
   }
  },
  {
   "cell_type": "code",
   "execution_count": 59,
   "outputs": [],
   "source": [
    "oversampled_df = oversampled_df.assign(snr_bin=oversampled_df[\"snr_bin\"].astype(str))"
   ],
   "metadata": {
    "collapsed": false,
    "ExecuteTime": {
     "start_time": "2023-04-06T00:49:44.425202Z",
     "end_time": "2023-04-06T00:49:46.472855Z"
    }
   }
  },
  {
   "cell_type": "code",
   "execution_count": 60,
   "outputs": [],
   "source": [
    "oversampled_df.to_hdf(sb.DATA_FOLDER + \"singles_oversampled_04_05.h5\", key=\"singles\")"
   ],
   "metadata": {
    "collapsed": false,
    "ExecuteTime": {
     "start_time": "2023-04-06T00:49:56.848728Z",
     "end_time": "2023-04-06T00:49:58.997522Z"
    }
   }
  },
  {
   "cell_type": "code",
   "execution_count": 61,
   "outputs": [
    {
     "data": {
      "text/plain": "flux_0           float64\nflux_1           float64\nflux_2           float64\nflux_3           float64\nflux_4           float64\n                  ...   \nunc_407          float64\nunc_408          float64\nsnr              float64\nsnr_bin           object\nspectral_type     object\nLength: 821, dtype: object"
     },
     "execution_count": 61,
     "metadata": {},
     "output_type": "execute_result"
    }
   ],
   "source": [
    "oversampled_df.dtypes"
   ],
   "metadata": {
    "collapsed": false,
    "ExecuteTime": {
     "start_time": "2023-04-06T00:50:01.051699Z",
     "end_time": "2023-04-06T00:50:01.056663Z"
    }
   }
  },
  {
   "cell_type": "code",
   "execution_count": null,
   "outputs": [],
   "source": [],
   "metadata": {
    "collapsed": false
   }
  }
 ],
 "metadata": {
  "kernelspec": {
   "display_name": "Python 3 (ipykernel)",
   "language": "python",
   "name": "python3"
  },
  "language_info": {
   "codemirror_mode": {
    "name": "ipython",
    "version": 3
   },
   "file_extension": ".py",
   "mimetype": "text/x-python",
   "name": "python",
   "nbconvert_exporter": "python",
   "pygments_lexer": "ipython3",
   "version": "3.10.6"
  }
 },
 "nbformat": 4,
 "nbformat_minor": 1
}
