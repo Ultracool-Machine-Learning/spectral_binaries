{
 "cells": [
  {
   "cell_type": "raw",
   "source": [],
   "metadata": {
    "collapsed": false,
    "pycharm": {
     "name": ""
    }
   }
  },
  {
   "cell_type": "code",
   "execution_count": 1,
   "metadata": {
    "ExecuteTime": {
     "start_time": "2023-04-04T02:23:51.564067Z",
     "end_time": "2023-04-04T02:23:51.900957Z"
    }
   },
   "outputs": [
    {
     "name": "stdout",
     "output_type": "stream",
     "text": [
      "\n",
      "\n",
      "Welcome to the UCSD Machine Learning Project Spectral Binary Code!\n",
      "You are currently using version 2023.03.13\n",
      "\n",
      "Please report any errors are feature requests to our GitHub page, https://github.com/Ultracool-Machine-Learning/spectral_binaries\n",
      "\n",
      "\n"
     ]
    }
   ],
   "source": [
    "import warnings\n",
    "\n",
    "import numpy as np\n",
    "import pandas as pd\n",
    "from tqdm import tqdm\n",
    "\n",
    "import spectral_binaries as sb\n",
    "warnings.filterwarnings(\"ignore\")"
   ]
  },
  {
   "cell_type": "code",
   "execution_count": 2,
   "metadata": {
    "ExecuteTime": {
     "start_time": "2023-04-04T02:23:51.900548Z",
     "end_time": "2023-04-04T02:23:51.979765Z"
    }
   },
   "outputs": [],
   "source": [
    "df = pd.read_hdf(sb.DATA_FOLDER+'single_spectra_with_synthphot.h5', key='singles')\n",
    "df = df.dropna(subset=[\"WAVEGRID\"])\n",
    "\n",
    "WAVEGRID = df[\"WAVEGRID\"].iloc[0]"
   ]
  },
  {
   "cell_type": "code",
   "execution_count": 3,
   "metadata": {
    "ExecuteTime": {
     "start_time": "2023-04-04T02:23:58.374053Z",
     "end_time": "2023-04-04T02:23:58.605383Z"
    }
   },
   "outputs": [],
   "source": [
    "df_flux = pd.DataFrame(df[\"INTERP_FLUX\"].tolist()).add_prefix(\"flux_\")\n",
    "df_flux = df_flux.assign(spectral_type=df[\"SPEX_TYPE\"])\n",
    "df_flux = df_flux.assign(spectral_type=df_flux[\"spectral_type\"].str[:4])\n",
    "df_noise = pd.DataFrame(df[\"INTERP_NOISE\"].tolist()).add_prefix(\"unc_\")\n",
    "df = pd.concat([df_flux, df_noise], axis=1)"
   ]
  },
  {
   "cell_type": "code",
   "execution_count": 4,
   "metadata": {
    "ExecuteTime": {
     "start_time": "2023-04-04T02:23:59.331080Z",
     "end_time": "2023-04-04T02:23:59.770918Z"
    }
   },
   "outputs": [
    {
     "data": {
      "text/plain": "         flux_0        flux_1        flux_2        flux_3        flux_4  \\\n0  3.241625e-10  3.348405e-10  3.465208e-10  3.524222e-10  3.550582e-10   \n1  3.741905e-10  3.778986e-10  3.842155e-10  3.909714e-10  3.894826e-10   \n2  3.320697e-10  3.330833e-10  3.457186e-10  3.545305e-10  3.498362e-10   \n3  3.437788e-10  3.516444e-10  3.601726e-10  3.687505e-10  3.688814e-10   \n4  3.194329e-10  3.260095e-10  3.328310e-10  3.365604e-10  3.410904e-10   \n\n         flux_5        flux_6        flux_7        flux_8        flux_9  ...  \\\n0  3.566195e-10  3.618013e-10  3.583395e-10  3.593815e-10  3.578717e-10  ...   \n1  3.871814e-10  3.841788e-10  3.807421e-10  3.771128e-10  3.743414e-10  ...   \n2  3.459809e-10  3.428462e-10  3.498325e-10  3.410872e-10  3.316798e-10  ...   \n3  3.672837e-10  3.657375e-10  3.608171e-10  3.564402e-10  3.519557e-10  ...   \n4  3.432005e-10  3.435691e-10  3.398621e-10  3.348895e-10  3.310606e-10  ...   \n\n        unc_399       unc_400       unc_401       unc_402       unc_403  \\\n0  1.815821e-12  1.946939e-12  1.859089e-12  1.729880e-12  1.686638e-12   \n1  2.941238e-13  2.967765e-13  2.911583e-13  2.864408e-13  2.814888e-13   \n2  4.262931e-12  3.941835e-12  4.217130e-12  4.149310e-12  3.833508e-12   \n3  5.615072e-13  5.411727e-13  4.930253e-13  4.718290e-13  4.676509e-13   \n4  8.101397e-13  8.232602e-13  8.548309e-13  8.864578e-13  8.613617e-13   \n\n        unc_404       unc_405       unc_406       unc_407       unc_408  \n0  1.664911e-12  1.648605e-12  1.646621e-12  1.613462e-12  1.592614e-12  \n1  2.790540e-13  2.761326e-13  2.731625e-13  2.730887e-13  2.755211e-13  \n2  3.701450e-12  3.655494e-12  3.636992e-12  3.595083e-12  3.601219e-12  \n3  4.674371e-13  4.726395e-13  4.706877e-13  4.710774e-13  4.652127e-13  \n4  8.063246e-13  7.784840e-13  7.669947e-13  7.552846e-13  7.517532e-13  \n\n[5 rows x 819 columns]",
      "text/html": "<div>\n<style scoped>\n    .dataframe tbody tr th:only-of-type {\n        vertical-align: middle;\n    }\n\n    .dataframe tbody tr th {\n        vertical-align: top;\n    }\n\n    .dataframe thead th {\n        text-align: right;\n    }\n</style>\n<table border=\"1\" class=\"dataframe\">\n  <thead>\n    <tr style=\"text-align: right;\">\n      <th></th>\n      <th>flux_0</th>\n      <th>flux_1</th>\n      <th>flux_2</th>\n      <th>flux_3</th>\n      <th>flux_4</th>\n      <th>flux_5</th>\n      <th>flux_6</th>\n      <th>flux_7</th>\n      <th>flux_8</th>\n      <th>flux_9</th>\n      <th>...</th>\n      <th>unc_399</th>\n      <th>unc_400</th>\n      <th>unc_401</th>\n      <th>unc_402</th>\n      <th>unc_403</th>\n      <th>unc_404</th>\n      <th>unc_405</th>\n      <th>unc_406</th>\n      <th>unc_407</th>\n      <th>unc_408</th>\n    </tr>\n  </thead>\n  <tbody>\n    <tr>\n      <th>0</th>\n      <td>3.241625e-10</td>\n      <td>3.348405e-10</td>\n      <td>3.465208e-10</td>\n      <td>3.524222e-10</td>\n      <td>3.550582e-10</td>\n      <td>3.566195e-10</td>\n      <td>3.618013e-10</td>\n      <td>3.583395e-10</td>\n      <td>3.593815e-10</td>\n      <td>3.578717e-10</td>\n      <td>...</td>\n      <td>1.815821e-12</td>\n      <td>1.946939e-12</td>\n      <td>1.859089e-12</td>\n      <td>1.729880e-12</td>\n      <td>1.686638e-12</td>\n      <td>1.664911e-12</td>\n      <td>1.648605e-12</td>\n      <td>1.646621e-12</td>\n      <td>1.613462e-12</td>\n      <td>1.592614e-12</td>\n    </tr>\n    <tr>\n      <th>1</th>\n      <td>3.741905e-10</td>\n      <td>3.778986e-10</td>\n      <td>3.842155e-10</td>\n      <td>3.909714e-10</td>\n      <td>3.894826e-10</td>\n      <td>3.871814e-10</td>\n      <td>3.841788e-10</td>\n      <td>3.807421e-10</td>\n      <td>3.771128e-10</td>\n      <td>3.743414e-10</td>\n      <td>...</td>\n      <td>2.941238e-13</td>\n      <td>2.967765e-13</td>\n      <td>2.911583e-13</td>\n      <td>2.864408e-13</td>\n      <td>2.814888e-13</td>\n      <td>2.790540e-13</td>\n      <td>2.761326e-13</td>\n      <td>2.731625e-13</td>\n      <td>2.730887e-13</td>\n      <td>2.755211e-13</td>\n    </tr>\n    <tr>\n      <th>2</th>\n      <td>3.320697e-10</td>\n      <td>3.330833e-10</td>\n      <td>3.457186e-10</td>\n      <td>3.545305e-10</td>\n      <td>3.498362e-10</td>\n      <td>3.459809e-10</td>\n      <td>3.428462e-10</td>\n      <td>3.498325e-10</td>\n      <td>3.410872e-10</td>\n      <td>3.316798e-10</td>\n      <td>...</td>\n      <td>4.262931e-12</td>\n      <td>3.941835e-12</td>\n      <td>4.217130e-12</td>\n      <td>4.149310e-12</td>\n      <td>3.833508e-12</td>\n      <td>3.701450e-12</td>\n      <td>3.655494e-12</td>\n      <td>3.636992e-12</td>\n      <td>3.595083e-12</td>\n      <td>3.601219e-12</td>\n    </tr>\n    <tr>\n      <th>3</th>\n      <td>3.437788e-10</td>\n      <td>3.516444e-10</td>\n      <td>3.601726e-10</td>\n      <td>3.687505e-10</td>\n      <td>3.688814e-10</td>\n      <td>3.672837e-10</td>\n      <td>3.657375e-10</td>\n      <td>3.608171e-10</td>\n      <td>3.564402e-10</td>\n      <td>3.519557e-10</td>\n      <td>...</td>\n      <td>5.615072e-13</td>\n      <td>5.411727e-13</td>\n      <td>4.930253e-13</td>\n      <td>4.718290e-13</td>\n      <td>4.676509e-13</td>\n      <td>4.674371e-13</td>\n      <td>4.726395e-13</td>\n      <td>4.706877e-13</td>\n      <td>4.710774e-13</td>\n      <td>4.652127e-13</td>\n    </tr>\n    <tr>\n      <th>4</th>\n      <td>3.194329e-10</td>\n      <td>3.260095e-10</td>\n      <td>3.328310e-10</td>\n      <td>3.365604e-10</td>\n      <td>3.410904e-10</td>\n      <td>3.432005e-10</td>\n      <td>3.435691e-10</td>\n      <td>3.398621e-10</td>\n      <td>3.348895e-10</td>\n      <td>3.310606e-10</td>\n      <td>...</td>\n      <td>8.101397e-13</td>\n      <td>8.232602e-13</td>\n      <td>8.548309e-13</td>\n      <td>8.864578e-13</td>\n      <td>8.613617e-13</td>\n      <td>8.063246e-13</td>\n      <td>7.784840e-13</td>\n      <td>7.669947e-13</td>\n      <td>7.552846e-13</td>\n      <td>7.517532e-13</td>\n    </tr>\n  </tbody>\n</table>\n<p>5 rows × 819 columns</p>\n</div>"
     },
     "execution_count": 4,
     "metadata": {},
     "output_type": "execute_result"
    }
   ],
   "source": [
    "df.head()"
   ]
  },
  {
   "cell_type": "code",
   "execution_count": 5,
   "outputs": [
    {
     "data": {
      "text/plain": "M8.0    288\nL1.0    235\nL2.0    179\nM9.0    113\nL7.0    112\nM7.0    102\nL5.0     83\nL6.0     78\nL0.0     67\nM6.0     64\nL3.0     62\nT0.0     60\nL9.0     45\nL8.0     41\nL4.0     31\nT2.0     28\nT1.0     19\nM5.0     17\nT3.0     17\nT4.0     12\nT5.0     10\nM4.0      4\nM3.0      1\nT6.0      1\nName: spectral_type, dtype: int64"
     },
     "execution_count": 5,
     "metadata": {},
     "output_type": "execute_result"
    }
   ],
   "source": [
    "df[\"spectral_type\"].value_counts()"
   ],
   "metadata": {
    "collapsed": false,
    "ExecuteTime": {
     "start_time": "2023-04-04T02:23:59.937153Z",
     "end_time": "2023-04-04T02:24:00.224743Z"
    }
   }
  },
  {
   "cell_type": "code",
   "execution_count": 36,
   "metadata": {
    "ExecuteTime": {
     "start_time": "2023-04-04T02:39:21.252034Z",
     "end_time": "2023-04-04T02:39:21.500065Z"
    }
   },
   "outputs": [
    {
     "name": "stderr",
     "output_type": "stream",
     "text": [
      "100%|██████████| 4/4 [00:00<00:00, 16.65it/s]\n"
     ]
    },
    {
     "data": {
      "text/plain": "(4000, 6)"
     },
     "execution_count": 36,
     "metadata": {},
     "output_type": "execute_result"
    }
   ],
   "source": [
    "def new_scale(wave, _flux, _unc, lower, upper, _rng=[1.2, 1.35]):\n",
    "    desired_snr = np.random.randint(lower, upper, 1)[0]\n",
    "    _idx = np.where((wave <= _rng[1]) & (wave >= _rng[0]))\n",
    "    _scale = np.nanmedian(_flux[_idx] / (desired_snr * _unc[_idx]))\n",
    "    return desired_snr, _scale\n",
    "\n",
    "\n",
    "def oversample(wave, _flux, _unc, _num, verbose=0):\n",
    "    results = []\n",
    "\n",
    "    # For each SNR bin that initial SNR doesn't fall into: Pick a random\n",
    "    # number within the SNR bin, find scale such that SNR(flux, unc) = that\n",
    "    # random number.\n",
    "    snr_bins = ((1, 50), (50, 100), (100, 150), (150, 200))#, (200, 1000))\n",
    "    # snr_bins = ((150, 200),)\n",
    "    for _r in snr_bins:\n",
    "        lower, upper = _r\n",
    "        if verbose > 0:\n",
    "            print(f\"Up-sampling to SNR ({lower}, {upper}]...\")\n",
    "\n",
    "        for i in range(_num // len(snr_bins)):\n",
    "            # Get noise scale to yield desired SNR\n",
    "            desired_snr, _scale = new_scale(wave, _flux, _unc, lower, upper)\n",
    "            new_flux, new_unc = sb.addNoise(_flux, _unc + 1e-5, scale=_scale)\n",
    "            new_snr = sb.measureSN(wave, new_flux, new_unc)\n",
    "            data = {\n",
    "                \"flux\": new_flux,\n",
    "                \"unc\": new_unc,\n",
    "                \"noise_scale\": _scale,\n",
    "                \"snr\": new_snr,\n",
    "                \"desired_snr\": desired_snr\n",
    "            }\n",
    "            results.append(data)\n",
    "\n",
    "    return pd.DataFrame(results)\n",
    "\n",
    "\n",
    "def oversample_spectral_type(wave, star_df, spectral_type, bins, num_type=1000):\n",
    "    type_df = star_df.query(f\"spectral_type == '{spectral_type}'\")\n",
    "    results = []\n",
    "    for i in tqdm(range(len(type_df))):\n",
    "        flux_vals = type_df.filter(like=\"flux_\").astype(float).iloc[i].values\n",
    "        unc_vals = type_df.filter(like=\"unc_\").astype(float).iloc[i].values\n",
    "        flux_norm, unc_norm = sb.normalize(wave, flux_vals, unc_vals)\n",
    "        res = oversample(wave, flux_norm, unc_norm, num_type)\n",
    "        results.append(res)\n",
    "\n",
    "    df_result = pd.concat(results).reset_index(drop=True)\n",
    "    df_result = df_result.assign(snr_bins=pd.cut(df_result[\"snr\"], bins))\n",
    "    return df_result\n",
    "\n",
    "\n",
    "BINS = [0, 50, 100, 150, 200, 1000]\n",
    "m4_over = oversample_spectral_type(WAVEGRID, df, \"M4.0\", BINS)\n",
    "m4_over.shape"
   ]
  },
  {
   "cell_type": "code",
   "execution_count": 37,
   "outputs": [
    {
     "data": {
      "text/plain": "(0, 50]        1765\n(50, 100]      1241\n(100, 150]      745\n(150, 200]      249\n(200, 1000]       0\nName: snr_bins, dtype: int64"
     },
     "execution_count": 37,
     "metadata": {},
     "output_type": "execute_result"
    }
   ],
   "source": [
    "m4_over[\"snr_bins\"].value_counts()\n",
    "\n",
    "# Bins: [0,10], [10, 25], [25, 50], ..., [100, max]\n",
    "\n",
    "# Start from highest 150+ <- select all sources >= 150 SNR\n",
    "# Vary it such that in range [150, original SNR]\n",
    "# Then [100, max] SNR stars <- resample such that SNR is [100 to 150]\n",
    "# Then [50, max] <- resample from all of these such that SNR is [50 to 100]\n",
    "\n",
    "# Start at highest bin, copy with no change/duplicate\n",
    "# If there is a lot of different variation in the lower SNR bins, maybe downsample to reach level of representation of the higher bin"
   ],
   "metadata": {
    "collapsed": false,
    "ExecuteTime": {
     "start_time": "2023-04-04T02:39:21.714629Z",
     "end_time": "2023-04-04T02:39:21.755881Z"
    }
   }
  },
  {
   "cell_type": "code",
   "execution_count": 34,
   "outputs": [],
   "source": [
    "test = m4_over[m4_over[\"desired_snr\"].between(150, 200)]"
   ],
   "metadata": {
    "collapsed": false,
    "ExecuteTime": {
     "start_time": "2023-04-04T02:38:58.331975Z",
     "end_time": "2023-04-04T02:38:58.337093Z"
    }
   }
  },
  {
   "cell_type": "code",
   "execution_count": 35,
   "outputs": [
    {
     "data": {
      "text/plain": "                                                   flux  \\\n750   [0.4723711833230688, 0.4910498178934158, 0.546...   \n751   [0.47422884237187785, 0.5103199998802108, 0.55...   \n752   [0.4734517931958906, 0.4954065548102063, 0.543...   \n753   [0.46686756328175466, 0.5011424474976373, 0.55...   \n754   [0.46522516510092354, 0.48079470481615977, 0.5...   \n...                                                 ...   \n3995  [0.42107909005787314, 0.33102576886894136, 0.3...   \n3996  [0.4145277134557113, 0.3314233197561297, 0.373...   \n3997  [0.4133791532999274, 0.33201020074880916, 0.38...   \n3998  [0.420776585693885, 0.3290551291774801, 0.3758...   \n3999  [0.4151714736924303, 0.3289208222871734, 0.378...   \n\n                                                    unc  noise_scale  \\\n750   [0.007133559827836069, 0.006989599529600718, 0...     1.051903   \n751   [0.008146609744215157, 0.007982205379958219, 0...     1.201285   \n752   [0.007208256789384091, 0.007062789053470883, 0...     1.062917   \n753   [0.007958248825273765, 0.0077976457179938655, ...     1.173510   \n754   [0.00748248394984979, 0.00733148211528771, 0.0...     1.103354   \n...                                                 ...          ...   \n3995  [0.0470640764461481, 0.044776182707392295, 0.0...     0.136804   \n3996  [0.0470640764461481, 0.044776182707392295, 0.0...     0.107094   \n3997  [0.0470640764461481, 0.044776182707392295, 0.0...     0.122570   \n3998  [0.0470640764461481, 0.044776182707392295, 0.0...     0.118461   \n3999  [0.0470640764461481, 0.044776182707392295, 0.0...     0.110441   \n\n             snr  desired_snr    snr_bins  \n750   192.538795          193  (150, 200]  \n751   169.628012          169  (150, 200]  \n752   191.426271          191  (150, 200]  \n753   171.348995          173  (150, 200]  \n754   184.392846          184  (150, 200]  \n...          ...          ...         ...  \n3995   20.981775          155     (1, 50]  \n3996   21.247774          198     (1, 50]  \n3997   21.148925          173     (1, 50]  \n3998   21.214064          179     (1, 50]  \n3999   21.102989          192     (1, 50]  \n\n[1000 rows x 6 columns]",
      "text/html": "<div>\n<style scoped>\n    .dataframe tbody tr th:only-of-type {\n        vertical-align: middle;\n    }\n\n    .dataframe tbody tr th {\n        vertical-align: top;\n    }\n\n    .dataframe thead th {\n        text-align: right;\n    }\n</style>\n<table border=\"1\" class=\"dataframe\">\n  <thead>\n    <tr style=\"text-align: right;\">\n      <th></th>\n      <th>flux</th>\n      <th>unc</th>\n      <th>noise_scale</th>\n      <th>snr</th>\n      <th>desired_snr</th>\n      <th>snr_bins</th>\n    </tr>\n  </thead>\n  <tbody>\n    <tr>\n      <th>750</th>\n      <td>[0.4723711833230688, 0.4910498178934158, 0.546...</td>\n      <td>[0.007133559827836069, 0.006989599529600718, 0...</td>\n      <td>1.051903</td>\n      <td>192.538795</td>\n      <td>193</td>\n      <td>(150, 200]</td>\n    </tr>\n    <tr>\n      <th>751</th>\n      <td>[0.47422884237187785, 0.5103199998802108, 0.55...</td>\n      <td>[0.008146609744215157, 0.007982205379958219, 0...</td>\n      <td>1.201285</td>\n      <td>169.628012</td>\n      <td>169</td>\n      <td>(150, 200]</td>\n    </tr>\n    <tr>\n      <th>752</th>\n      <td>[0.4734517931958906, 0.4954065548102063, 0.543...</td>\n      <td>[0.007208256789384091, 0.007062789053470883, 0...</td>\n      <td>1.062917</td>\n      <td>191.426271</td>\n      <td>191</td>\n      <td>(150, 200]</td>\n    </tr>\n    <tr>\n      <th>753</th>\n      <td>[0.46686756328175466, 0.5011424474976373, 0.55...</td>\n      <td>[0.007958248825273765, 0.0077976457179938655, ...</td>\n      <td>1.173510</td>\n      <td>171.348995</td>\n      <td>173</td>\n      <td>(150, 200]</td>\n    </tr>\n    <tr>\n      <th>754</th>\n      <td>[0.46522516510092354, 0.48079470481615977, 0.5...</td>\n      <td>[0.00748248394984979, 0.00733148211528771, 0.0...</td>\n      <td>1.103354</td>\n      <td>184.392846</td>\n      <td>184</td>\n      <td>(150, 200]</td>\n    </tr>\n    <tr>\n      <th>...</th>\n      <td>...</td>\n      <td>...</td>\n      <td>...</td>\n      <td>...</td>\n      <td>...</td>\n      <td>...</td>\n    </tr>\n    <tr>\n      <th>3995</th>\n      <td>[0.42107909005787314, 0.33102576886894136, 0.3...</td>\n      <td>[0.0470640764461481, 0.044776182707392295, 0.0...</td>\n      <td>0.136804</td>\n      <td>20.981775</td>\n      <td>155</td>\n      <td>(1, 50]</td>\n    </tr>\n    <tr>\n      <th>3996</th>\n      <td>[0.4145277134557113, 0.3314233197561297, 0.373...</td>\n      <td>[0.0470640764461481, 0.044776182707392295, 0.0...</td>\n      <td>0.107094</td>\n      <td>21.247774</td>\n      <td>198</td>\n      <td>(1, 50]</td>\n    </tr>\n    <tr>\n      <th>3997</th>\n      <td>[0.4133791532999274, 0.33201020074880916, 0.38...</td>\n      <td>[0.0470640764461481, 0.044776182707392295, 0.0...</td>\n      <td>0.122570</td>\n      <td>21.148925</td>\n      <td>173</td>\n      <td>(1, 50]</td>\n    </tr>\n    <tr>\n      <th>3998</th>\n      <td>[0.420776585693885, 0.3290551291774801, 0.3758...</td>\n      <td>[0.0470640764461481, 0.044776182707392295, 0.0...</td>\n      <td>0.118461</td>\n      <td>21.214064</td>\n      <td>179</td>\n      <td>(1, 50]</td>\n    </tr>\n    <tr>\n      <th>3999</th>\n      <td>[0.4151714736924303, 0.3289208222871734, 0.378...</td>\n      <td>[0.0470640764461481, 0.044776182707392295, 0.0...</td>\n      <td>0.110441</td>\n      <td>21.102989</td>\n      <td>192</td>\n      <td>(1, 50]</td>\n    </tr>\n  </tbody>\n</table>\n<p>1000 rows × 6 columns</p>\n</div>"
     },
     "execution_count": 35,
     "metadata": {},
     "output_type": "execute_result"
    }
   ],
   "source": [
    "test"
   ],
   "metadata": {
    "collapsed": false,
    "ExecuteTime": {
     "start_time": "2023-04-04T02:38:58.879795Z",
     "end_time": "2023-04-04T02:38:58.888325Z"
    }
   }
  },
  {
   "cell_type": "code",
   "execution_count": 8,
   "outputs": [],
   "source": [
    "flux = df.iloc[5].filter(like=\"flux\").values.astype(float)\n",
    "unc = df.iloc[5].filter(like=\"unc\").values.astype(float)\n",
    "snr_1 = sb.measureSN(WAVEGRID, flux, unc)\n",
    "print(snr_1)\n",
    "\n",
    "# scale = flux / (SNR * unc)\n",
    "snr = 150\n",
    "rng = [1.2, 1.35]\n",
    "idx = np.where((WAVEGRID <= rng[1]) & (WAVEGRID >= rng[0]))\n",
    "scale = np.nanmedian(flux[idx] / (snr * unc[idx]))\n",
    "n_flux, n_unc = sb.addNoise(flux, unc, scale=scale)\n",
    "snr_2 = sb.measureSN(WAVEGRID, n_flux, n_unc)\n",
    "print(snr_2)"
   ],
   "metadata": {
    "collapsed": false,
    "ExecuteTime": {
     "start_time": "2023-04-04T02:22:09.553034Z",
     "end_time": "2023-04-04T02:22:09.570633Z"
    }
   }
  },
  {
   "cell_type": "code",
   "execution_count": 9,
   "outputs": [],
   "source": [
    "scale"
   ],
   "metadata": {
    "collapsed": false,
    "ExecuteTime": {
     "start_time": "2023-04-04T02:22:11.510275Z",
     "end_time": "2023-04-04T02:22:11.523519Z"
    }
   }
  },
  {
   "cell_type": "code",
   "execution_count": 10,
   "outputs": [],
   "source": [
    "n_flux, n_unc = sb.addNoise(flux, unc, scale=scale)\n",
    "np.nanmedian(flux / unc)"
   ],
   "metadata": {
    "collapsed": false,
    "ExecuteTime": {
     "start_time": "2023-04-04T02:22:12.156937Z",
     "end_time": "2023-04-04T02:22:12.175957Z"
    }
   }
  },
  {
   "cell_type": "code",
   "execution_count": 11,
   "outputs": [],
   "source": [
    "np.nanmedian(df.iloc[5].filter(like=\"flux\").values.astype(float)) / np.nanmedian(df.iloc[5].filter(like=\"unc\").values.astype(float))"
   ],
   "metadata": {
    "collapsed": false,
    "ExecuteTime": {
     "start_time": "2023-04-04T02:22:12.903871Z",
     "end_time": "2023-04-04T02:22:12.911962Z"
    }
   }
  },
  {
   "cell_type": "code",
   "execution_count": 52,
   "outputs": [],
   "source": [
    "def bin_snr(x):\n",
    "    if 0 < x <= 50.0:\n",
    "        return 0, 50\n",
    "    elif 50.0 < x <= 100.0:\n",
    "        return 50, 100\n",
    "    elif 100.0 < x <= 150.0:\n",
    "        return 100, 150\n",
    "    elif 150.0 < x <= 200.0:\n",
    "        return 150, 200\n",
    "    else:\n",
    "        return 200,  1000"
   ],
   "metadata": {
    "collapsed": false,
    "ExecuteTime": {
     "start_time": "2023-04-03T22:58:04.297308Z",
     "end_time": "2023-04-03T22:58:04.301371Z"
    }
   }
  }
 ],
 "metadata": {
  "kernelspec": {
   "display_name": "Python 3 (ipykernel)",
   "language": "python",
   "name": "python3"
  },
  "language_info": {
   "codemirror_mode": {
    "name": "ipython",
    "version": 3
   },
   "file_extension": ".py",
   "mimetype": "text/x-python",
   "name": "python",
   "nbconvert_exporter": "python",
   "pygments_lexer": "ipython3",
   "version": "3.10.6"
  }
 },
 "nbformat": 4,
 "nbformat_minor": 1
}
