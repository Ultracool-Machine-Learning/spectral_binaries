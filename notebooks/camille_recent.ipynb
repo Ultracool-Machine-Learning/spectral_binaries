{
 "cells": [
  {
   "cell_type": "code",
   "execution_count": 3,
   "id": "1914d9fa-8646-414d-857e-798d191d431d",
   "metadata": {
    "pycharm": {
     "name": "#%%\n"
    }
   },
   "outputs": [],
   "source": [
    "from itertools import product\n",
    "from pathlib import Path\n",
    "import warnings\n",
    "\n",
    "import numpy as np\n",
    "import pandas as pd\n",
    "import scipy.interpolate as interp\n",
    "import seaborn as sns\n",
    "from tqdm import tqdm\n",
    "\n",
    "#import splat # we should remove this dependency\n",
    "\n",
    "import spectral_binaries as sb\n",
    "\n",
    "tqdm.pandas()\n",
    "warnings.filterwarnings(\"ignore\")"
   ]
  },
  {
   "cell_type": "code",
   "execution_count": 13,
   "id": "483527c3",
   "metadata": {},
   "outputs": [
    {
     "ename": "AttributeError",
     "evalue": "module 'spectral_binaries' has no attribute 'core'",
     "output_type": "error",
     "traceback": [
      "\u001b[0;31m---------------------------------------------------------------------------\u001b[0m",
      "\u001b[0;31mAttributeError\u001b[0m                            Traceback (most recent call last)",
      "\u001b[0;32m<ipython-input-13-14dfda27053e>\u001b[0m in \u001b[0;36m<module>\u001b[0;34m\u001b[0m\n\u001b[0;32m----> 1\u001b[0;31m \u001b[0msb\u001b[0m\u001b[0;34m.\u001b[0m\u001b[0mcore\u001b[0m\u001b[0;34m.\u001b[0m\u001b[0mDATA_FOLDER\u001b[0m\u001b[0;34m\u001b[0m\u001b[0;34m\u001b[0m\u001b[0m\n\u001b[0m",
      "\u001b[0;31mAttributeError\u001b[0m: module 'spectral_binaries' has no attribute 'core'"
     ]
    }
   ],
   "source": [
    "sb."
   ]
  },
  {
   "cell_type": "code",
   "execution_count": 11,
   "id": "8630e7d6",
   "metadata": {},
   "outputs": [
    {
     "name": "stdout",
     "output_type": "stream",
     "text": [
      "['SOURCE_KEY', 'NAME', 'DESIGNATION', 'RA', 'DEC', 'DISCOVERY_REFERENCE', 'OPT_TYPE', 'OPT_TYPE_REF', 'NIR_TYPE', 'NIR_TYPE_REF', 'LIT_TYPE', 'LIT_TYPE_REF', 'OBJECT_TYPE', 'J_2MASS', 'J_2MASS_E', 'H_2MASS', 'H_2MASS_E', 'KS_2MASS', 'KS_2MASS_E', 'JK_EXCESS', 'COLOR_EXTREMITY', 'LUMINOSITY_CLASS', 'METALLICITY_CLASS', 'GRAVITY_CLASS_OPTICAL', 'GRAVITY_CLASS_OPTICAL_REF', 'GRAVITY_CLASS_NIR', 'GRAVITY_CLASS_NIR_REF', 'CLUSTER', 'CLUSTER_REF', 'LIBRARY', 'BINARY', 'BINARY_REF', 'SBINARY', 'SBINARY_REF', 'COMPANION_NAME', 'COMPANION_REF', 'SIMBAD_OTYPE', 'SIMBAD_NAME', 'SIMBAD_SPT', 'SIMBAD_SPT_REF', 'SIMBAD_SEP', 'PARALLAX', 'PARALLAX_E', 'PARALLEX_REF', 'DISTANCE_PHOT', 'DISTANCE_PHOT_E', 'DISTANCE', 'DISTANCE_E', 'MU', 'MU_E', 'MU_RA', 'MU_DEC', 'MU_REF', 'VTAN', 'VTAN_E', 'RV', 'RV_E', 'RV_REF', 'VSINI', 'VSINI_E', 'VSINI_REF', 'NOTE', 'SELECT', 'DATA_KEY', 'DATA_FILE', 'INSTRUMENT', 'OBSERVATION_DATE', 'OBSERVATION_TIME', 'JULIAN_DATE', 'PROGRAM_NUMBER', 'PROGRAM_PI', 'OBSERVER', 'RESOLUTION', 'AIRMASS', 'REDUCTION_SPEXTOOL_VERSION', 'REDUCTION_PERSON', 'REDUCTION_DATE', 'QUALITY_FLAG', 'MEDIAN_SNR', 'SPEX_TYPE', 'SPEX_GRAVITY_CLASSIFICATION', 'PUBLISHED', 'DATA_REFERENCE', 'NOTE_SP', 'SPTYPE_BY_STANDARD', 'FLAG_IS_SPECTRAL_BINARY_CAND', 'FLAG_BAD_SPECTRA', 'CLEAN', 'WAVEGRID', 'INTERP_FLUX', 'INTERP_NOISE', 'MKO_J_SYNTH', 'MKO_J_ER_SYNTH', 'MKO_H_SYNTH', 'MKO_H_er_SYNTH', 'SNR_11_13', 'MKO_KS_SYNTH', 'MKO_KS_ER_SYNTH', '2MASS_J_SYNTH', '2MASS_J_ER_SYNTH', '2MASS_H_SYNTH', '2MASS_H_ER_SYNTH', '2MASS_KS_SYNTH', '2MASS_KS_ER_SYNTH']\n"
     ]
    }
   ],
   "source": [
    "# read in single templates\n",
    "DATA_DIR = sb.__path__[0]+'/../data/' # add this into sb\n",
    "STFILE = DATA_DIR+'single_spectra_with_synthphot.h5'\n",
    "STFILE = sb.DATA_FOLDER\n",
    "df = pd.read_hdf(STFILE)\n",
    "print(list(df.columns))"
   ]
  },
  {
   "cell_type": "code",
   "execution_count": 7,
   "id": "3f7001d3-11a5-46ed-81d8-69a4ff37dea3",
   "metadata": {
    "pycharm": {
     "name": "#%%\n"
    }
   },
   "outputs": [],
   "source": [
    "DATA_DIR = \"data/\"\n",
    "FP = \"spectral_templates_data_version_jul26.h5\"\n",
    "path = Path(DATA_DIR, FP)\n",
    "df = pd.read_hdf(path)"
   ]
  },
  {
   "cell_type": "code",
   "execution_count": null,
   "id": "4b26368e",
   "metadata": {
    "pycharm": {
     "name": "#%%\n"
    }
   },
   "outputs": [],
   "source": [
    "df = df.dropna(\n",
    "    subset=[\n",
    "        \"SPEX_TYPE\",\n",
    "        \"system_interpolated_flux\",\n",
    "        \"system_interpolated_noise\",\n",
    "        \"difference_spectrum\",\n",
    "    ]\n",
    ").reset_index(drop=True)\n",
    "df[\"spex_type\"] = df[\"spex_type\"].apply(splat.typeToNum)\n",
    "\n",
    "flux_df = pd.DataFrame(df[\"system_interpolated_flux\"].tolist()).add_prefix(\"flux_\")\n",
    "noise_df = pd.DataFrame(df[\"system_interpolated_noise\"].tolist()).add_prefix(\"noise_\")\n",
    "df_new = pd.concat([df[\"spex_type\"], flux_df, noise_df], axis=1).ffill(axis=1).reset_index(drop=True)\n",
    "df_new.tail()"
   ]
  },
  {
   "cell_type": "code",
   "execution_count": 6,
   "id": "62aac17b-9da4-4def-8058-96f83b4f1c6d",
   "metadata": {
    "pycharm": {
     "name": "#%%\n"
    }
   },
   "outputs": [],
   "source": [
    "# Initial wavegrid\n",
    "wavegrid = pd.Series(df[\"wavegrid\"].iloc[0])\n",
    "\n",
    "# For normalization\n",
    "wavegrid_scale = wavegrid[wavegrid.between(1.2, 1.4)].index\n",
    "\n",
    "# For chi-squared\n",
    "range_1 = wavegrid[wavegrid.between(0.95, 1.35)].index\n",
    "range_2 = wavegrid[wavegrid.between(1.45, 1.80)].index\n",
    "range_3 = wavegrid[wavegrid.between(2.00, 2.35)].index\n",
    "\n",
    "# For SNR\n",
    "flux_filter = [\"flux_\" + str(i) for i in wavegrid[wavegrid.between(1.1, 1.3)].index]\n",
    "noise_filter = [\"noise_\" + str(i) for i in wavegrid[wavegrid.between(1.1, 1.3)].index]"
   ]
  },
  {
   "cell_type": "code",
   "execution_count": 4,
   "id": "bbeed9e5-3613-4fc1-b26a-be5ad5cda373",
   "metadata": {
    "pycharm": {
     "name": "#%%\n"
    }
   },
   "outputs": [],
   "source": [
    "def interpolate_flux_wave(wave, flux):\n",
    "    f = interp.interp1d(wave, flux, assume_sorted=False, fill_value=np.nan)\n",
    "    return f(wavegrid)\n",
    "\n",
    "\n",
    "splat.initializeStandards()\n",
    "standards_spex = splat.STDS_DWARF_SPEX\n",
    "\n",
    "interpolated_standards = {}\n",
    "\n",
    "for k in list(splat.STDS_DWARF_SPEX.keys()):\n",
    "    if \"Y\" not in k:\n",
    "        std = splat.STDS_DWARF_SPEX[k]\n",
    "        spectrum = splat.Spectrum(\n",
    "            wave=wavegrid,\n",
    "            flux=interpolate_flux_wave(std.wave.value, std.flux.value),\n",
    "            noise=interpolate_flux_wave(std.wave, std.noise.value),\n",
    "        )\n",
    "        spectrum.normalize([1, 1.3])\n",
    "        interpolated_standards.update({k: spectrum})\n",
    "\n",
    "standards, standard_types = [], []\n",
    "\n",
    "for k in list(interpolated_standards.keys()):\n",
    "    standards.append(interpolated_standards[k].flux.value)\n",
    "    standard_types.append(k)\n",
    "\n",
    "\n",
    "def fast_classify(flux, uncertainties, fit_range=[0.9, 1.4]):\n",
    "    w = np.where(np.logical_and(wavegrid >= fit_range[0], wavegrid <= fit_range[1]))\n",
    "\n",
    "    scales, chi = [], []\n",
    "\n",
    "    # Loop through standards\n",
    "    for std in standards:\n",
    "        scales.append(\n",
    "            np.nansum(flux[w] * std[w] / uncertainties[w] ** 2)\n",
    "            / np.nansum((std[w] ** 2) / uncertainties[w] ** 2)\n",
    "        )\n",
    "        chi.append(\n",
    "            np.nansum(((flux[w] - std[w] * scales[-1]) ** 2) / uncertainties[w] ** 2)\n",
    "        )\n",
    "\n",
    "    return standard_types[np.argmin(chi)]\n",
    "\n",
    "\n",
    "def fast_classify_df(df):\n",
    "    res = df.progress_apply(\n",
    "        lambda x: splat.typeToNum(\n",
    "            fast_classify(x.filter(like=\"flux\").values, x.filter(like=\"noise\").values)\n",
    "        ),\n",
    "        axis=1,\n",
    "    )\n",
    "    df[\"system_type\"] = res\n",
    "    return df"
   ]
  },
  {
   "cell_type": "code",
   "execution_count": 5,
   "id": "a9089550-f737-43c9-b941-2ae2b5db2dd2",
   "metadata": {
    "pycharm": {
     "name": "#%%\n"
    }
   },
   "outputs": [
    {
     "data": {
      "text/html": [
       "<div>\n",
       "<style scoped>\n",
       "    .dataframe tbody tr th:only-of-type {\n",
       "        vertical-align: middle;\n",
       "    }\n",
       "\n",
       "    .dataframe tbody tr th {\n",
       "        vertical-align: top;\n",
       "    }\n",
       "\n",
       "    .dataframe thead th {\n",
       "        text-align: right;\n",
       "    }\n",
       "</style>\n",
       "<table border=\"1\" class=\"dataframe\">\n",
       "  <thead>\n",
       "    <tr style=\"text-align: right;\">\n",
       "      <th></th>\n",
       "      <th>spex_type</th>\n",
       "      <th>flux_0</th>\n",
       "      <th>flux_1</th>\n",
       "      <th>flux_2</th>\n",
       "      <th>flux_3</th>\n",
       "      <th>flux_4</th>\n",
       "      <th>flux_5</th>\n",
       "      <th>flux_6</th>\n",
       "      <th>flux_7</th>\n",
       "      <th>flux_8</th>\n",
       "      <th>...</th>\n",
       "      <th>noise_399</th>\n",
       "      <th>noise_400</th>\n",
       "      <th>noise_401</th>\n",
       "      <th>noise_402</th>\n",
       "      <th>noise_403</th>\n",
       "      <th>noise_404</th>\n",
       "      <th>noise_405</th>\n",
       "      <th>noise_406</th>\n",
       "      <th>noise_407</th>\n",
       "      <th>noise_408</th>\n",
       "    </tr>\n",
       "  </thead>\n",
       "  <tbody>\n",
       "    <tr>\n",
       "      <th>19</th>\n",
       "      <td>17.0</td>\n",
       "      <td>1.421944e-10</td>\n",
       "      <td>1.456862e-10</td>\n",
       "      <td>1.520721e-10</td>\n",
       "      <td>1.624367e-10</td>\n",
       "      <td>1.668434e-10</td>\n",
       "      <td>1.659980e-10</td>\n",
       "      <td>1.656944e-10</td>\n",
       "      <td>1.616858e-10</td>\n",
       "      <td>1.596456e-10</td>\n",
       "      <td>...</td>\n",
       "      <td>1.532508e-12</td>\n",
       "      <td>1.504761e-12</td>\n",
       "      <td>1.669580e-12</td>\n",
       "      <td>1.609609e-12</td>\n",
       "      <td>1.600118e-12</td>\n",
       "      <td>1.592644e-12</td>\n",
       "      <td>1.441079e-12</td>\n",
       "      <td>1.461814e-12</td>\n",
       "      <td>1.474468e-12</td>\n",
       "      <td>1.608297e-12</td>\n",
       "    </tr>\n",
       "    <tr>\n",
       "      <th>20</th>\n",
       "      <td>17.0</td>\n",
       "      <td>4.914253e-11</td>\n",
       "      <td>5.388633e-11</td>\n",
       "      <td>5.668498e-11</td>\n",
       "      <td>5.989768e-11</td>\n",
       "      <td>6.325788e-11</td>\n",
       "      <td>6.339925e-11</td>\n",
       "      <td>6.360359e-11</td>\n",
       "      <td>6.383454e-11</td>\n",
       "      <td>6.049485e-11</td>\n",
       "      <td>...</td>\n",
       "      <td>3.486809e-13</td>\n",
       "      <td>2.454216e-13</td>\n",
       "      <td>7.365166e-14</td>\n",
       "      <td>1.472364e-13</td>\n",
       "      <td>2.684740e-13</td>\n",
       "      <td>5.069175e-13</td>\n",
       "      <td>5.916225e-13</td>\n",
       "      <td>4.531591e-13</td>\n",
       "      <td>3.624281e-13</td>\n",
       "      <td>5.547572e-13</td>\n",
       "    </tr>\n",
       "    <tr>\n",
       "      <th>21</th>\n",
       "      <td>17.0</td>\n",
       "      <td>8.497064e-11</td>\n",
       "      <td>8.915361e-11</td>\n",
       "      <td>9.472622e-11</td>\n",
       "      <td>1.009404e-10</td>\n",
       "      <td>1.062999e-10</td>\n",
       "      <td>1.078474e-10</td>\n",
       "      <td>1.081270e-10</td>\n",
       "      <td>1.078484e-10</td>\n",
       "      <td>1.052933e-10</td>\n",
       "      <td>...</td>\n",
       "      <td>7.421357e-13</td>\n",
       "      <td>7.555952e-13</td>\n",
       "      <td>7.164455e-13</td>\n",
       "      <td>6.834534e-13</td>\n",
       "      <td>6.760315e-13</td>\n",
       "      <td>6.783179e-13</td>\n",
       "      <td>6.756063e-13</td>\n",
       "      <td>6.635656e-13</td>\n",
       "      <td>6.580801e-13</td>\n",
       "      <td>6.529634e-13</td>\n",
       "    </tr>\n",
       "    <tr>\n",
       "      <th>22</th>\n",
       "      <td>17.0</td>\n",
       "      <td>1.176569e-10</td>\n",
       "      <td>1.246898e-10</td>\n",
       "      <td>1.337510e-10</td>\n",
       "      <td>1.438664e-10</td>\n",
       "      <td>1.506459e-10</td>\n",
       "      <td>1.498014e-10</td>\n",
       "      <td>1.469220e-10</td>\n",
       "      <td>1.447904e-10</td>\n",
       "      <td>1.383410e-10</td>\n",
       "      <td>...</td>\n",
       "      <td>1.053192e-12</td>\n",
       "      <td>1.096303e-12</td>\n",
       "      <td>1.145497e-12</td>\n",
       "      <td>1.117611e-12</td>\n",
       "      <td>1.083712e-12</td>\n",
       "      <td>1.053542e-12</td>\n",
       "      <td>1.019439e-12</td>\n",
       "      <td>1.002055e-12</td>\n",
       "      <td>9.801605e-13</td>\n",
       "      <td>1.000286e-12</td>\n",
       "    </tr>\n",
       "    <tr>\n",
       "      <th>23</th>\n",
       "      <td>17.0</td>\n",
       "      <td>1.380912e-10</td>\n",
       "      <td>1.423047e-10</td>\n",
       "      <td>1.545272e-10</td>\n",
       "      <td>1.619234e-10</td>\n",
       "      <td>1.723275e-10</td>\n",
       "      <td>1.750613e-10</td>\n",
       "      <td>1.734114e-10</td>\n",
       "      <td>1.713281e-10</td>\n",
       "      <td>1.693047e-10</td>\n",
       "      <td>...</td>\n",
       "      <td>8.716236e-13</td>\n",
       "      <td>8.648428e-13</td>\n",
       "      <td>8.629560e-13</td>\n",
       "      <td>9.195508e-13</td>\n",
       "      <td>9.376870e-13</td>\n",
       "      <td>9.234234e-13</td>\n",
       "      <td>8.832666e-13</td>\n",
       "      <td>8.503010e-13</td>\n",
       "      <td>8.334012e-13</td>\n",
       "      <td>8.182881e-13</td>\n",
       "    </tr>\n",
       "  </tbody>\n",
       "</table>\n",
       "<p>5 rows × 819 columns</p>\n",
       "</div>"
      ],
      "text/plain": [
       "    spex_type        flux_0        flux_1        flux_2        flux_3  \\\n",
       "19       17.0  1.421944e-10  1.456862e-10  1.520721e-10  1.624367e-10   \n",
       "20       17.0  4.914253e-11  5.388633e-11  5.668498e-11  5.989768e-11   \n",
       "21       17.0  8.497064e-11  8.915361e-11  9.472622e-11  1.009404e-10   \n",
       "22       17.0  1.176569e-10  1.246898e-10  1.337510e-10  1.438664e-10   \n",
       "23       17.0  1.380912e-10  1.423047e-10  1.545272e-10  1.619234e-10   \n",
       "\n",
       "          flux_4        flux_5        flux_6        flux_7        flux_8  ...  \\\n",
       "19  1.668434e-10  1.659980e-10  1.656944e-10  1.616858e-10  1.596456e-10  ...   \n",
       "20  6.325788e-11  6.339925e-11  6.360359e-11  6.383454e-11  6.049485e-11  ...   \n",
       "21  1.062999e-10  1.078474e-10  1.081270e-10  1.078484e-10  1.052933e-10  ...   \n",
       "22  1.506459e-10  1.498014e-10  1.469220e-10  1.447904e-10  1.383410e-10  ...   \n",
       "23  1.723275e-10  1.750613e-10  1.734114e-10  1.713281e-10  1.693047e-10  ...   \n",
       "\n",
       "       noise_399     noise_400     noise_401     noise_402     noise_403  \\\n",
       "19  1.532508e-12  1.504761e-12  1.669580e-12  1.609609e-12  1.600118e-12   \n",
       "20  3.486809e-13  2.454216e-13  7.365166e-14  1.472364e-13  2.684740e-13   \n",
       "21  7.421357e-13  7.555952e-13  7.164455e-13  6.834534e-13  6.760315e-13   \n",
       "22  1.053192e-12  1.096303e-12  1.145497e-12  1.117611e-12  1.083712e-12   \n",
       "23  8.716236e-13  8.648428e-13  8.629560e-13  9.195508e-13  9.376870e-13   \n",
       "\n",
       "       noise_404     noise_405     noise_406     noise_407     noise_408  \n",
       "19  1.592644e-12  1.441079e-12  1.461814e-12  1.474468e-12  1.608297e-12  \n",
       "20  5.069175e-13  5.916225e-13  4.531591e-13  3.624281e-13  5.547572e-13  \n",
       "21  6.783179e-13  6.756063e-13  6.635656e-13  6.580801e-13  6.529634e-13  \n",
       "22  1.053542e-12  1.019439e-12  1.002055e-12  9.801605e-13  1.000286e-12  \n",
       "23  9.234234e-13  8.832666e-13  8.503010e-13  8.334012e-13  8.182881e-13  \n",
       "\n",
       "[5 rows x 819 columns]"
      ]
     },
     "execution_count": 5,
     "metadata": {},
     "output_type": "execute_result"
    }
   ],
   "source": [
    "primary_range = list(range(17, 28))  # M7-L7 primaries\n",
    "secondary_range = list(range(31, 39))  # T1-T8 secondaries\n",
    "\n",
    "# Filter to only include these primaries and secondaries\n",
    "primary_df = df_new[df_new[\"spex_type\"].isin(primary_range)]\n",
    "secondary_df = df_new[df_new[\"spex_type\"].isin(secondary_range)]\n",
    "\n",
    "primary_df.head()"
   ]
  },
  {
   "cell_type": "code",
   "execution_count": 6,
   "id": "649c81eb-a49f-4ca9-85bc-98bed77030ee",
   "metadata": {
    "pycharm": {
     "name": "#%%\n"
    }
   },
   "outputs": [],
   "source": [
    "def add_two_stars(star_1, star_2):\n",
    "    flux_1 = star_1.filter(like=\"flux\")\n",
    "    flux_2 = star_2.filter(like=\"flux\")\n",
    "    noise_1 = star_1.filter(like=\"noise\")\n",
    "    noise_2 = star_2.filter(like=\"noise\")\n",
    "    type_1 = (\n",
    "        pd.Series(star_1[\"spex_type\"]).rename(\"primary_type\").reset_index(drop=True)\n",
    "    )\n",
    "    type_2 = (\n",
    "        pd.Series(star_2[\"spex_type\"]).rename(\"secondary_type\").reset_index(drop=True)\n",
    "    )\n",
    "\n",
    "    new_flux = (flux_1 + flux_2).to_frame().T\n",
    "    new_noise = np.sqrt(noise_1**2 + noise_2**2).to_frame().T\n",
    "\n",
    "    return pd.concat([new_flux, new_noise, type_1, type_2], axis=1)\n",
    "\n",
    "\n",
    "def compute_snr(row):\n",
    "    return np.nanmedian(\n",
    "        row.filter(like=\"flux\")[flux_filter].values\n",
    "        / row.filter(like=\"noise\")[noise_filter].values\n",
    "    )\n"
   ]
  },
  {
   "cell_type": "code",
   "execution_count": 7,
   "id": "3199ccd3-d25a-4d04-92e4-a116d0fd5063",
   "metadata": {
    "pycharm": {
     "name": "#%%\n"
    }
   },
   "outputs": [
    {
     "name": "stderr",
     "output_type": "stream",
     "text": [
      "100%|████████████████████████████████████████████████████████████████████████████████████████████████████████████████████████████████████████████████████████████████████████████████████████████████| 11/11 [01:35<00:00,  8.68s/it]\n"
     ]
    }
   ],
   "source": [
    "# Get each possible spectral binary from df_new, add stars together\n",
    "added_stars = []\n",
    "\n",
    "for i in tqdm(primary_range):\n",
    "    for j in secondary_range:\n",
    "        prim_df = df_new[df_new[\"spex_type\"] == i]\n",
    "        sec_df = df_new[df_new[\"spex_type\"] == j]\n",
    "        all_idx = list(product(list(prim_df.index), list(sec_df.index)))\n",
    "        for k in all_idx:\n",
    "            prim_idx, sec_idx = k\n",
    "            added = add_two_stars(prim_df.loc[prim_idx], sec_df.loc[sec_idx])\n",
    "            added_stars.append(added)"
   ]
  },
  {
   "cell_type": "code",
   "execution_count": 8,
   "id": "07311fb0-ed29-4124-9676-13e047855505",
   "metadata": {
    "pycharm": {
     "name": "#%%\n"
    }
   },
   "outputs": [],
   "source": [
    "added_stars = pd.concat(added_stars).reset_index(drop=True)"
   ]
  },
  {
   "cell_type": "code",
   "execution_count": 9,
   "id": "dc986c81-22e1-4fa9-9caa-894032ffd32b",
   "metadata": {
    "pycharm": {
     "name": "#%%\n"
    }
   },
   "outputs": [
    {
     "name": "stderr",
     "output_type": "stream",
     "text": [
      "100%|█████████████████████████████████████████████████████████████████████████████████████████████████████████████████████████████████████████████████████████████████████████████████████████| 29295/29295 [01:16<00:00, 381.06it/s]\n"
     ]
    }
   ],
   "source": [
    "added_stars = fast_classify_df(added_stars)"
   ]
  },
  {
   "cell_type": "code",
   "execution_count": 10,
   "id": "5baf0e89-3a58-4702-93bd-14dfaa5cdb6a",
   "metadata": {
    "pycharm": {
     "name": "#%%\n"
    }
   },
   "outputs": [
    {
     "data": {
      "text/plain": [
       "17.0    2282\n",
       "18.0    2692\n",
       "19.0    1223\n",
       "20.0    1049\n",
       "21.0    5232\n",
       "22.0    2483\n",
       "23.0     700\n",
       "24.0     202\n",
       "25.0    4481\n",
       "26.0     794\n",
       "27.0    2124\n",
       "Name: system_type, dtype: int64"
      ]
     },
     "execution_count": 10,
     "metadata": {},
     "output_type": "execute_result"
    }
   ],
   "source": [
    "added_stars = added_stars[added_stars[\"primary_type\"] <= added_stars[\"system_type\"]]\n",
    "added_stars = added_stars[added_stars[\"system_type\"].isin(primary_range)]\n",
    "\n",
    "added_stars[\"system_type\"].value_counts().sort_index()"
   ]
  },
  {
   "cell_type": "code",
   "execution_count": 11,
   "id": "bfb965fe-fa34-4e9e-8724-6f964ac4cc36",
   "metadata": {
    "pycharm": {
     "name": "#%%\n"
    }
   },
   "outputs": [],
   "source": [
    "def add_noise_util(row, low, high, step, binary):\n",
    "    new_noise = row.filter(like=\"noise\") + np.random.normal(\n",
    "        row.filter(like=\"noise\"), row.filter(like=\"noise\").abs()\n",
    "    ) * np.random.choice(np.arange(low, high, step))\n",
    "    new_snr = pd.Series(\n",
    "        np.nanmedian(\n",
    "            row.filter(like=\"flux\")[flux_filter].values.astype(np.float64)\n",
    "            / new_noise[noise_filter].values.astype(np.float64)\n",
    "        )\n",
    "    )\n",
    "\n",
    "    if binary:\n",
    "        res = pd.concat(\n",
    "            [\n",
    "                row.filter(like=\"flux\"),\n",
    "                new_noise,\n",
    "                row[[\"primary_type\", \"secondary_type\", \"system_type\"]],\n",
    "                new_snr,\n",
    "            ]\n",
    "        )\n",
    "    else:\n",
    "        res = pd.concat(\n",
    "            [\n",
    "                row.filter(like=\"flux\"),\n",
    "                new_noise,\n",
    "                pd.Series(row[\"system_type\"]),\n",
    "                new_snr,\n",
    "            ]\n",
    "        )\n",
    "    return res\n",
    "\n",
    "\n",
    "# Get objects of SNR usually < 100\n",
    "def add_random_noise_low_snr(row, binary=True):\n",
    "    return add_noise_util(row, 1, 6, 0.05, binary)\n",
    "\n",
    "\n",
    "# Get objects of higher SNR (> 100)\n",
    "def add_random_noise_high_snr(row, binary=True):\n",
    "    return add_noise_util(row, 0, 0.1, 0.01, binary)\n"
   ]
  },
  {
   "cell_type": "code",
   "execution_count": null,
   "id": "e80c842e-f563-407a-893a-ce17647666a6",
   "metadata": {
    "pycharm": {
     "name": "#%%\n"
    }
   },
   "outputs": [
    {
     "name": "stderr",
     "output_type": "stream",
     "text": [
      "  6%|████████████                                                                                                                                                                                     | 2/32 [00:21<04:32,  9.09s/it]"
     ]
    }
   ],
   "source": [
    "prim_sys_combs = list(added_stars.groupby([\"primary_type\", \"system_type\"]).size().index)\n",
    "\n",
    "test = []\n",
    "\n",
    "for c in tqdm(prim_sys_combs):\n",
    "    prim_type, sys_type = c\n",
    "    curr_comb = added_stars[\n",
    "        (added_stars[\"primary_type\"] == prim_type)\n",
    "        & (added_stars[\"system_type\"] == sys_type)\n",
    "    ]\n",
    "    with_snr_low = curr_comb.apply(add_random_noise_low_snr, axis=1)\n",
    "    with_snr_high = curr_comb.apply(add_random_noise_high_snr, axis=1)\n",
    "    test.append(with_snr_low)\n",
    "    test.append(with_snr_high)\n",
    "\n",
    "test = pd.concat(test)\n",
    "test = test.rename(columns={0: \"snr\"})"
   ]
  },
  {
   "cell_type": "code",
   "execution_count": 13,
   "id": "2f383078-a80c-4cca-8ec7-2da021424165",
   "metadata": {
    "pycharm": {
     "name": "#%%\n"
    }
   },
   "outputs": [],
   "source": [
    "def snr_map(snr):\n",
    "    if 0 <= snr < 25:\n",
    "        return \"1\"\n",
    "    elif 25 <= snr < 50:\n",
    "        return \"2\"\n",
    "    elif 50 <= snr < 100:\n",
    "        return \"3\"\n",
    "    elif 100 <= snr < 150:\n",
    "        return \"4\"\n",
    "    else:\n",
    "        return \"5\""
   ]
  },
  {
   "cell_type": "code",
   "execution_count": 14,
   "id": "ba4bbd0f-f511-425c-a00b-8aa389977d33",
   "metadata": {
    "pycharm": {
     "name": "#%%\n"
    }
   },
   "outputs": [],
   "source": [
    "test[\"snr_map\"] = test[\"snr\"].apply(snr_map)"
   ]
  },
  {
   "cell_type": "code",
   "execution_count": 15,
   "id": "37cce3a7-89ad-4c7f-adcd-9a0ae082a4a5",
   "metadata": {
    "pycharm": {
     "name": "#%%\n"
    }
   },
   "outputs": [],
   "source": [
    "test = test[test[\"system_type\"].isin(primary_range)]"
   ]
  },
  {
   "cell_type": "code",
   "execution_count": 16,
   "id": "0cd936ae-0b1f-4b2d-b685-1d92c780eae5",
   "metadata": {
    "pycharm": {
     "name": "#%%\n"
    }
   },
   "outputs": [
    {
     "data": {
      "text/html": [
       "<div>\n",
       "<style scoped>\n",
       "    .dataframe tbody tr th:only-of-type {\n",
       "        vertical-align: middle;\n",
       "    }\n",
       "\n",
       "    .dataframe tbody tr th {\n",
       "        vertical-align: top;\n",
       "    }\n",
       "\n",
       "    .dataframe thead th {\n",
       "        text-align: right;\n",
       "    }\n",
       "</style>\n",
       "<table border=\"1\" class=\"dataframe\">\n",
       "  <thead>\n",
       "    <tr style=\"text-align: right;\">\n",
       "      <th></th>\n",
       "      <th>flux_0</th>\n",
       "      <th>flux_1</th>\n",
       "      <th>flux_2</th>\n",
       "      <th>flux_3</th>\n",
       "      <th>flux_4</th>\n",
       "      <th>flux_5</th>\n",
       "      <th>flux_6</th>\n",
       "      <th>flux_7</th>\n",
       "      <th>flux_8</th>\n",
       "      <th>flux_9</th>\n",
       "      <th>...</th>\n",
       "      <th>noise_405</th>\n",
       "      <th>noise_406</th>\n",
       "      <th>noise_407</th>\n",
       "      <th>noise_408</th>\n",
       "      <th>primary_type</th>\n",
       "      <th>secondary_type</th>\n",
       "      <th>system_type</th>\n",
       "      <th>snr</th>\n",
       "      <th>snr_map</th>\n",
       "      <th>group</th>\n",
       "    </tr>\n",
       "  </thead>\n",
       "  <tbody>\n",
       "    <tr>\n",
       "      <th>0</th>\n",
       "      <td>1.437066e-10</td>\n",
       "      <td>1.472403e-10</td>\n",
       "      <td>1.536146e-10</td>\n",
       "      <td>1.642271e-10</td>\n",
       "      <td>1.687348e-10</td>\n",
       "      <td>1.677666e-10</td>\n",
       "      <td>1.675241e-10</td>\n",
       "      <td>1.635971e-10</td>\n",
       "      <td>1.612938e-10</td>\n",
       "      <td>1.615802e-10</td>\n",
       "      <td>...</td>\n",
       "      <td>-3.117420e-12</td>\n",
       "      <td>7.466440e-12</td>\n",
       "      <td>-3.202049e-12</td>\n",
       "      <td>8.471620e-12</td>\n",
       "      <td>17.0</td>\n",
       "      <td>31.0</td>\n",
       "      <td>17.0</td>\n",
       "      <td>11.331502</td>\n",
       "      <td>1</td>\n",
       "      <td>0</td>\n",
       "    </tr>\n",
       "    <tr>\n",
       "      <th>1</th>\n",
       "      <td>1.429952e-10</td>\n",
       "      <td>1.467440e-10</td>\n",
       "      <td>1.533989e-10</td>\n",
       "      <td>1.639029e-10</td>\n",
       "      <td>1.682829e-10</td>\n",
       "      <td>1.675041e-10</td>\n",
       "      <td>1.671510e-10</td>\n",
       "      <td>1.633575e-10</td>\n",
       "      <td>1.612019e-10</td>\n",
       "      <td>1.624947e-10</td>\n",
       "      <td>...</td>\n",
       "      <td>1.112341e-12</td>\n",
       "      <td>2.660564e-12</td>\n",
       "      <td>4.273931e-12</td>\n",
       "      <td>1.033208e-12</td>\n",
       "      <td>17.0</td>\n",
       "      <td>31.0</td>\n",
       "      <td>17.0</td>\n",
       "      <td>44.842377</td>\n",
       "      <td>2</td>\n",
       "      <td>1</td>\n",
       "    </tr>\n",
       "    <tr>\n",
       "      <th>2</th>\n",
       "      <td>1.426537e-10</td>\n",
       "      <td>1.460524e-10</td>\n",
       "      <td>1.532803e-10</td>\n",
       "      <td>1.634423e-10</td>\n",
       "      <td>1.678607e-10</td>\n",
       "      <td>1.670228e-10</td>\n",
       "      <td>1.669187e-10</td>\n",
       "      <td>1.631174e-10</td>\n",
       "      <td>1.610143e-10</td>\n",
       "      <td>1.613976e-10</td>\n",
       "      <td>...</td>\n",
       "      <td>1.019655e-11</td>\n",
       "      <td>8.521207e-12</td>\n",
       "      <td>1.014345e-11</td>\n",
       "      <td>5.857034e-12</td>\n",
       "      <td>17.0</td>\n",
       "      <td>31.0</td>\n",
       "      <td>17.0</td>\n",
       "      <td>23.804289</td>\n",
       "      <td>1</td>\n",
       "      <td>0</td>\n",
       "    </tr>\n",
       "    <tr>\n",
       "      <th>3</th>\n",
       "      <td>1.430458e-10</td>\n",
       "      <td>1.465090e-10</td>\n",
       "      <td>1.524026e-10</td>\n",
       "      <td>1.627338e-10</td>\n",
       "      <td>1.680917e-10</td>\n",
       "      <td>1.674288e-10</td>\n",
       "      <td>1.671140e-10</td>\n",
       "      <td>1.629021e-10</td>\n",
       "      <td>1.608532e-10</td>\n",
       "      <td>1.609811e-10</td>\n",
       "      <td>...</td>\n",
       "      <td>4.431276e-12</td>\n",
       "      <td>4.431281e-12</td>\n",
       "      <td>4.351787e-12</td>\n",
       "      <td>4.534047e-13</td>\n",
       "      <td>17.0</td>\n",
       "      <td>31.0</td>\n",
       "      <td>17.0</td>\n",
       "      <td>52.087849</td>\n",
       "      <td>3</td>\n",
       "      <td>2</td>\n",
       "    </tr>\n",
       "    <tr>\n",
       "      <th>4</th>\n",
       "      <td>1.428526e-10</td>\n",
       "      <td>1.470776e-10</td>\n",
       "      <td>1.530889e-10</td>\n",
       "      <td>1.632808e-10</td>\n",
       "      <td>1.675973e-10</td>\n",
       "      <td>1.672648e-10</td>\n",
       "      <td>1.669936e-10</td>\n",
       "      <td>1.634553e-10</td>\n",
       "      <td>1.613765e-10</td>\n",
       "      <td>1.614322e-10</td>\n",
       "      <td>...</td>\n",
       "      <td>9.427057e-12</td>\n",
       "      <td>1.096719e-11</td>\n",
       "      <td>1.058507e-11</td>\n",
       "      <td>-1.289446e-12</td>\n",
       "      <td>17.0</td>\n",
       "      <td>31.0</td>\n",
       "      <td>17.0</td>\n",
       "      <td>23.133754</td>\n",
       "      <td>1</td>\n",
       "      <td>0</td>\n",
       "    </tr>\n",
       "  </tbody>\n",
       "</table>\n",
       "<p>5 rows × 824 columns</p>\n",
       "</div>"
      ],
      "text/plain": [
       "         flux_0        flux_1        flux_2        flux_3        flux_4  \\\n",
       "0  1.437066e-10  1.472403e-10  1.536146e-10  1.642271e-10  1.687348e-10   \n",
       "1  1.429952e-10  1.467440e-10  1.533989e-10  1.639029e-10  1.682829e-10   \n",
       "2  1.426537e-10  1.460524e-10  1.532803e-10  1.634423e-10  1.678607e-10   \n",
       "3  1.430458e-10  1.465090e-10  1.524026e-10  1.627338e-10  1.680917e-10   \n",
       "4  1.428526e-10  1.470776e-10  1.530889e-10  1.632808e-10  1.675973e-10   \n",
       "\n",
       "         flux_5        flux_6        flux_7        flux_8        flux_9  ...  \\\n",
       "0  1.677666e-10  1.675241e-10  1.635971e-10  1.612938e-10  1.615802e-10  ...   \n",
       "1  1.675041e-10  1.671510e-10  1.633575e-10  1.612019e-10  1.624947e-10  ...   \n",
       "2  1.670228e-10  1.669187e-10  1.631174e-10  1.610143e-10  1.613976e-10  ...   \n",
       "3  1.674288e-10  1.671140e-10  1.629021e-10  1.608532e-10  1.609811e-10  ...   \n",
       "4  1.672648e-10  1.669936e-10  1.634553e-10  1.613765e-10  1.614322e-10  ...   \n",
       "\n",
       "      noise_405     noise_406     noise_407     noise_408  primary_type  \\\n",
       "0 -3.117420e-12  7.466440e-12 -3.202049e-12  8.471620e-12          17.0   \n",
       "1  1.112341e-12  2.660564e-12  4.273931e-12  1.033208e-12          17.0   \n",
       "2  1.019655e-11  8.521207e-12  1.014345e-11  5.857034e-12          17.0   \n",
       "3  4.431276e-12  4.431281e-12  4.351787e-12  4.534047e-13          17.0   \n",
       "4  9.427057e-12  1.096719e-11  1.058507e-11 -1.289446e-12          17.0   \n",
       "\n",
       "   secondary_type  system_type        snr  snr_map  group  \n",
       "0            31.0         17.0  11.331502        1      0  \n",
       "1            31.0         17.0  44.842377        2      1  \n",
       "2            31.0         17.0  23.804289        1      0  \n",
       "3            31.0         17.0  52.087849        3      2  \n",
       "4            31.0         17.0  23.133754        1      0  \n",
       "\n",
       "[5 rows x 824 columns]"
      ]
     },
     "execution_count": 16,
     "metadata": {},
     "output_type": "execute_result"
    }
   ],
   "source": [
    "test[\"group\"] = test.groupby([\"primary_type\", \"system_type\", \"snr_map\"]).ngroup()\n",
    "test.head()"
   ]
  },
  {
   "cell_type": "code",
   "execution_count": 17,
   "id": "817c1b5d-332c-4521-9f1f-2ab3f3f0729a",
   "metadata": {
    "pycharm": {
     "name": "#%%\n"
    }
   },
   "outputs": [],
   "source": [
    "group_size = 1000\n",
    "\n",
    "\n",
    "def resample_group(group_df, binary=True):\n",
    "    if len(group_df) >= group_size:\n",
    "        return group_df.sample(group_size)\n",
    "    else:\n",
    "        # Not duplicating, adding Gaussian noise with different scales to rows that were randomly sampled\n",
    "        with_noise = group_df.sample(group_size - len(group_df), replace=True).apply(\n",
    "            lambda x: add_noise_util(x, 0.1, 2, 0.05, binary), axis=1\n",
    "        )\n",
    "        with_noise.columns = list(with_noise.columns[:-2]) + [\"system_type\", \"snr\"]\n",
    "        with_noise[\"snr_map\"] = with_noise[\"snr\"].apply(snr_map)\n",
    "\n",
    "        return pd.concat([group_df, with_noise]).reset_index(drop=True)"
   ]
  },
  {
   "cell_type": "code",
   "execution_count": 18,
   "id": "537339ba-5253-4c05-9393-2bab39c8e4c7",
   "metadata": {
    "pycharm": {
     "name": "#%%\n"
    }
   },
   "outputs": [
    {
     "name": "stderr",
     "output_type": "stream",
     "text": [
      "100%|██████████████████████████████████████████████████████████████████████████████████████████████████████████████████████████████████████████████████████████████████████████████████████████████| 153/153 [08:07<00:00,  3.19s/it]\n"
     ]
    }
   ],
   "source": [
    "groups_resampled = test.groupby(\"group\").progress_apply(resample_group)"
   ]
  },
  {
   "cell_type": "code",
   "execution_count": 19,
   "id": "6d571786-c392-46fe-820a-69c1ef5303ca",
   "metadata": {
    "pycharm": {
     "name": "#%%\n"
    }
   },
   "outputs": [],
   "source": [
    "groups_resampled = groups_resampled.reset_index(drop=True).drop(columns=\"group\")"
   ]
  },
  {
   "cell_type": "code",
   "execution_count": 20,
   "id": "ff445a3d-0ad7-4197-804a-6298d978432a",
   "metadata": {
    "pycharm": {
     "name": "#%%\n"
    }
   },
   "outputs": [],
   "source": [
    "# Oversample singles\n",
    "singles_df = df_new[df_new[\"spex_type\"].isin(primary_range)].rename(columns={\"spex_type\": \"system_type\"})"
   ]
  },
  {
   "cell_type": "code",
   "execution_count": null,
   "id": "e7bff159-0433-460d-9df9-7d621a2e4782",
   "metadata": {
    "pycharm": {
     "name": "#%%\n"
    },
    "tags": []
   },
   "outputs": [],
   "source": [
    "# Add noise to singles\n",
    "singles_over = []\n",
    "\n",
    "np.seterr(all=\"ignore\")\n",
    "\n",
    "\n",
    "def add_noise_singles_helper(curr_type):\n",
    "    over = curr_type.apply(lambda x: add_noise_util(x, 0, 4, 0.1, False), axis=1)\n",
    "    zero_cols = {0: [\"system_type\", \"snr\"]}\n",
    "    over = over.rename(\n",
    "        columns=lambda c: zero_cols[c].pop(0) if c in zero_cols.keys() else c\n",
    "    )\n",
    "    return over\n",
    "\n",
    "\n",
    "def add_noise_singles(prim_type, k=3000):\n",
    "    curr_type = singles_df[singles_df[\"system_type\"] == prim_type]#.copy(deep=True)\n",
    "    curr_type[\"snr\"] = curr_type.apply(compute_snr, axis=1)\n",
    "    curr_over = [curr_type]\n",
    "    over = Parallel(n_jobs=2)(delayed(add_noise_singles)(curr_type) for _ in tqdm(range(k)))\n",
    "    curr_over.append(over)\n",
    "    singles_over.append(pd.concat(curr_over))\n",
    "\n",
    "\n",
    "for j in primary_range:\n",
    "    add_noise_singles(j)\n",
    "singles_over = pd.concat(singles_over).reset_index(drop=True)"
   ]
  },
  {
   "cell_type": "code",
   "execution_count": null,
   "id": "e71c7bde-0759-4bd7-a619-7a649cac7156",
   "metadata": {
    "pycharm": {
     "name": "#%%\n"
    }
   },
   "outputs": [],
   "source": [
    "singles_over[\"snr_map\"] = singles_over[\"snr\"].apply(snr_map)"
   ]
  },
  {
   "cell_type": "code",
   "execution_count": null,
   "id": "6e00b5ee-ecb4-4a34-b34b-f2dbb54c8b49",
   "metadata": {
    "pycharm": {
     "name": "#%%\n"
    }
   },
   "outputs": [],
   "source": [
    "singles_over[\"group\"] = singles_over.groupby([\"system_type\", \"snr_map\"]).ngroup()\n",
    "singles_over.head()"
   ]
  },
  {
   "cell_type": "code",
   "execution_count": null,
   "id": "cfd7cbcc-3361-4c75-a2ff-4ce1b4ac5496",
   "metadata": {
    "pycharm": {
     "name": "#%%\n"
    }
   },
   "outputs": [],
   "source": [
    "singles_over.shape"
   ]
  },
  {
   "cell_type": "code",
   "execution_count": null,
   "id": "ddfd7b70-0737-460d-ad4f-2898476118ab",
   "metadata": {
    "pycharm": {
     "name": "#%%\n"
    }
   },
   "outputs": [],
   "source": [
    "singles_over.isna().sum().sum()"
   ]
  },
  {
   "cell_type": "code",
   "execution_count": null,
   "id": "f18a8266-eaaa-40c8-8bf4-cab74cd89046",
   "metadata": {
    "pycharm": {
     "name": "#%%\n"
    }
   },
   "outputs": [],
   "source": [
    "# Get singles with higher SNR values\n",
    "singles_over_resampled = singles_over.groupby(\"group\").progress_apply(resample_group, binary=False)\n",
    "singles_over_resampled = singles_over_resampled.reset_index(drop=True).drop(columns=\"group\")\n",
    "singles_over_resampled.tail()"
   ]
  },
  {
   "cell_type": "markdown",
   "id": "ccf0967e-8c10-49bb-9416-f96ccf042dda",
   "metadata": {
    "pycharm": {
     "name": "#%% md\n"
    }
   },
   "source": [
    "# Run Baseline Model & Calculate Difference"
   ]
  },
  {
   "cell_type": "code",
   "execution_count": null,
   "id": "64e4452a-e95a-403f-b05f-7bee437963d0",
   "metadata": {
    "pycharm": {
     "name": "#%%\n"
    }
   },
   "outputs": [],
   "source": [
    "groups_resampled[\"binary\"] = 1\n",
    "singles_over_resampled[\"binary\"] = 0"
   ]
  },
  {
   "cell_type": "code",
   "execution_count": null,
   "id": "e5f9cf56-6962-4cfd-bddf-5a6a9b88cfc4",
   "metadata": {
    "pycharm": {
     "name": "#%%\n"
    }
   },
   "outputs": [],
   "source": [
    "binaries_baseline = groups_resampled.drop(columns=[\"primary_type\", \"secondary_type\"])\n",
    "singles_baseline = singles_over_resampled\n",
    "df_baseline = pd.concat([binaries_baseline, singles_baseline]).sample(frac=1).reset_index(drop=True).drop(columns=\"snr\")\n",
    "df_baseline[\"snr_map\"] = df_baseline[\"snr_map\"].astype(int)"
   ]
  },
  {
   "cell_type": "code",
   "execution_count": null,
   "id": "6069e142-4c10-4dd4-abd3-d09752dd1583",
   "metadata": {
    "pycharm": {
     "name": "#%%\n"
    }
   },
   "outputs": [],
   "source": [
    "low_snr_baseline = df_baseline[df_baseline[\"snr_map\"] == 1].drop(columns=\"snr_map\")\n",
    "\n",
    "low_snr_flux = low_snr_baseline.filter(like=\"flux\").divide(\n",
    "    np.nanmax(low_snr_baseline[[\"flux_\" + str(i) for i in wavegrid_scale]], axis=1), axis=0\n",
    ")\n",
    "low_snr_noise = low_snr_baseline.filter(like=\"noise\").abs().divide(\n",
    "    np.nanmax(low_snr_baseline[[\"flux_\" + str(i) for i in wavegrid_scale]], axis=1), axis=0\n",
    ")\n",
    "\n",
    "\n",
    "low_snr_singles = low_snr_baseline[low_snr_baseline[\"binary\"] == 0]\n",
    "low_snr_binaries = low_snr_baseline[low_snr_baseline[\"binary\"] == 1]"
   ]
  },
  {
   "cell_type": "code",
   "execution_count": null,
   "id": "be7514ce-3f0d-4fe2-ba05-b4a75f9bb8ec",
   "metadata": {
    "pycharm": {
     "name": "#%%\n"
    }
   },
   "outputs": [],
   "source": [
    "single_types = low_snr_singles[\"system_type\"].unique()\n",
    "binary_types = low_snr_binaries[\"system_type\"].unique()\n",
    "types_intersection = list(set(single_types) & set(binary_types))\n",
    "\n",
    "low_snr_singles = low_snr_singles[low_snr_singles[\"system_type\"].isin(types_intersection)]\n",
    "low_snr_binaries = low_snr_binaries[low_snr_binaries[\"system_type\"].isin(types_intersection)]"
   ]
  },
  {
   "cell_type": "code",
   "execution_count": null,
   "id": "2f5daeba-b1b6-4866-86f8-8df7f9c049b2",
   "metadata": {
    "pycharm": {
     "name": "#%%\n"
    }
   },
   "outputs": [],
   "source": [
    "low_snr_singles[\"system_type\"].value_counts().sort_index()"
   ]
  },
  {
   "cell_type": "code",
   "execution_count": null,
   "id": "8f32b072-183c-41f2-bd0e-7e47a3417fbe",
   "metadata": {
    "pycharm": {
     "name": "#%%\n"
    }
   },
   "outputs": [],
   "source": [
    "# Imbalanced because we have to account for all primary-system type combinations\n",
    "# Some system types occur more often than others \n",
    "low_snr_binaries[\"system_type\"].value_counts().sort_index()"
   ]
  },
  {
   "cell_type": "code",
   "execution_count": null,
   "id": "c2504ee0-9d42-4d3c-b816-9cc9e4b470b9",
   "metadata": {
    "pycharm": {
     "name": "#%%\n"
    }
   },
   "outputs": [],
   "source": [
    "splat.initializeStandards()\n",
    "standards_spex = splat.STDS_DWARF_SPEX\n",
    "\n",
    "type_standard = {}\n",
    "\n",
    "for spectral_type in range(10, 40):\n",
    "    type_standard[spectral_type] = splat.getStandard(spectral_type)"
   ]
  },
  {
   "cell_type": "code",
   "execution_count": null,
   "id": "db24f196-8515-4b1d-abff-0fafc2ef843a",
   "metadata": {
    "pycharm": {
     "name": "#%%\n"
    }
   },
   "outputs": [],
   "source": [
    "df_low_snr = pd.concat([low_snr_singles, low_snr_binaries]).sample(frac=1).reset_index(drop=True)\n",
    "df_low_snr_flux = df_low_snr.filter(like=\"flux\")\n",
    "df_low_snr_flux = df_low_snr_flux + np.random.normal(df_low_snr_flux, df_low_snr.filter(like=\"noise\").abs())\n",
    "df_low_snr_baseline = pd.concat([df_low_snr_flux, df_low_snr[[\"system_type\", \"binary\"]]], axis=1).dropna()\n",
    "df_low_snr_baseline.replace([np.inf, -np.inf], np.nan, inplace=True)\n",
    "df_low_snr_baseline.dropna(inplace=True)\n",
    "\n",
    "\n",
    "# Calculate difference spectra\n",
    "def fast_diff(row):\n",
    "    flux_vals = row.filter(like=\"flux\")\n",
    "    noise_vals = row.filter(like=\"noise\")\n",
    "    spectral_type = row.filter(like=\"type\").values[0]\n",
    "    \n",
    "    sp = splat.Spectrum(flux=flux_vals, noise=noise_vals, wave=wavegrid)\n",
    "    standard = type_standard[spectral_type]\n",
    "    sp.normalize()\n",
    "    standard.normalize()\n",
    "    \n",
    "    diff = sp - standard\n",
    "    abs_diff = np.abs(diff.flux.value)\n",
    "    return abs_diff\n",
    "\n",
    "\n",
    "df_low_snr_baseline_diffs = df_low_snr_baseline.progress_apply(fast_diff, axis=1)"
   ]
  },
  {
   "cell_type": "code",
   "execution_count": null,
   "id": "d800d475-f7bb-4788-9df7-555fa9cc5b2d",
   "metadata": {
    "pycharm": {
     "name": "#%%\n"
    }
   },
   "outputs": [],
   "source": [
    "df_low_snr_baseline_diffs_df = pd.DataFrame(\n",
    "    df_low_snr_baseline_diffs.tolist(),\n",
    "    columns=[\"diff_\" + str(i) for i in range(len(df_low_snr_baseline_diffs.iloc[0]))],\n",
    ")\n",
    "df_low_snr_baseline_diffs_df.head()"
   ]
  },
  {
   "cell_type": "code",
   "execution_count": null,
   "id": "580b1be3-b6a1-4887-bd84-325b1e2599a7",
   "metadata": {
    "pycharm": {
     "name": "#%%\n"
    }
   },
   "outputs": [],
   "source": [
    "df_low_snr_baseline = pd.concat([df_low_snr_baseline, df_low_snr_baseline_diffs_df], axis=1)"
   ]
  },
  {
   "cell_type": "code",
   "execution_count": null,
   "id": "93a65d83-ea14-4956-a704-36e486fd79a0",
   "metadata": {
    "pycharm": {
     "name": "#%%\n"
    }
   },
   "outputs": [],
   "source": [
    "df_low_snr_baseline = df_low_snr_baseline.dropna()"
   ]
  },
  {
   "cell_type": "code",
   "execution_count": null,
   "id": "87932898-0de0-4742-a556-754d7b9c45b0",
   "metadata": {
    "pycharm": {
     "name": "#%%\n"
    }
   },
   "outputs": [],
   "source": [
    "X, y = df_low_snr_baseline.drop(columns=\"binary\"), df_low_snr_baseline[\"binary\"]"
   ]
  },
  {
   "cell_type": "code",
   "execution_count": null,
   "id": "6c700ded-52c6-4032-8a23-298712f6e589",
   "metadata": {
    "pycharm": {
     "name": "#%%\n"
    }
   },
   "outputs": [],
   "source": [
    "X.head()"
   ]
  },
  {
   "cell_type": "code",
   "execution_count": null,
   "id": "149df257-12ae-4462-b4d7-f7fbc06aa428",
   "metadata": {
    "pycharm": {
     "name": "#%%\n"
    }
   },
   "outputs": [],
   "source": [
    "from sklearn.model_selection import train_test_split\n",
    "\n",
    "X_train, X_test, y_train, y_test = train_test_split(X, y, stratify=y)"
   ]
  },
  {
   "cell_type": "code",
   "execution_count": null,
   "id": "72ed1514-e57a-4251-8587-98314e05af4f",
   "metadata": {
    "pycharm": {
     "name": "#%%\n"
    }
   },
   "outputs": [],
   "source": [
    "from imblearn.under_sampling import RandomUnderSampler\n",
    "\n",
    "train_df = pd.concat([X_train, y_train], axis=1)\n",
    "singles_train = train_df[train_df[\"binary\"] == 0]\n",
    "binaries_train = train_df[train_df[\"binary\"] == 1]\n",
    "X_train_binaries, sys_type_binaries = binaries_train.drop(columns=[\"system_type\"]), binaries_train[\"system_type\"]\n",
    "rus = RandomUnderSampler()\n",
    "X_train_binaries_re, sys_type_binaries = rus.fit_resample(X_train_binaries, sys_type_binaries)\n",
    "binaries_train_re = pd.concat([X_train_binaries_re, sys_type_binaries], axis=1)\n",
    "train_df = pd.concat([binaries_train_re, singles_train]).sample(frac=1)\n",
    "X_train, y_train = train_df.drop(columns=\"binary\"), train_df[\"binary\"]"
   ]
  },
  {
   "cell_type": "code",
   "execution_count": null,
   "id": "7c629ed8-c32a-46f4-81e8-6eeea8ca8e11",
   "metadata": {
    "pycharm": {
     "name": "#%%\n"
    }
   },
   "outputs": [],
   "source": [
    "binaries_train_re[\"system_type\"].value_counts()"
   ]
  },
  {
   "cell_type": "code",
   "execution_count": null,
   "id": "e342bf28-221d-46da-9676-34bdc18589de",
   "metadata": {
    "pycharm": {
     "name": "#%%\n"
    }
   },
   "outputs": [],
   "source": [
    "singles_train[\"system_type\"].value_counts()"
   ]
  },
  {
   "cell_type": "code",
   "execution_count": null,
   "id": "7b686555-ced0-437d-840a-7c7c3e62948c",
   "metadata": {
    "pycharm": {
     "name": "#%%\n"
    }
   },
   "outputs": [],
   "source": [
    "from sklearn.ensemble import RandomForestClassifier\n",
    "\n",
    "rf = RandomForestClassifier()\n",
    "rf.fit(X_train, y_train)"
   ]
  },
  {
   "cell_type": "code",
   "execution_count": null,
   "id": "078075ab-184b-4038-85fe-869fd4d5faf9",
   "metadata": {
    "pycharm": {
     "name": "#%%\n"
    }
   },
   "outputs": [],
   "source": [
    "train_pred = rf.predict(X_train)\n",
    "test_pred = rf.predict(X_test)"
   ]
  },
  {
   "cell_type": "code",
   "execution_count": null,
   "id": "a1f0cba1-1d4e-4fe0-a5a3-8c341e55fcf8",
   "metadata": {
    "pycharm": {
     "name": "#%%\n"
    }
   },
   "outputs": [],
   "source": [
    "from sklearn.metrics import classification_report\n",
    "\n",
    "print(classification_report(y_train, train_pred) + \"\\n\")\n",
    "print(classification_report(y_test, test_pred))"
   ]
  },
  {
   "cell_type": "code",
   "execution_count": null,
   "id": "ecee66e9-4624-410d-85b0-a50ba8eedfc0",
   "metadata": {
    "pycharm": {
     "name": "#%%\n"
    }
   },
   "outputs": [],
   "source": [
    "from sklearn.metrics import plot_confusion_matrix\n",
    "\n",
    "plot_confusion_matrix(estimator=rf, X=X_train, y_true=y_train);"
   ]
  },
  {
   "cell_type": "code",
   "execution_count": null,
   "id": "fbd8fb31-a5c0-46ac-9e34-62be06ddda8a",
   "metadata": {
    "pycharm": {
     "name": "#%%\n"
    }
   },
   "outputs": [],
   "source": [
    "plot_confusion_matrix(estimator=rf, X=X_test, y_true=y_test);"
   ]
  },
  {
   "cell_type": "code",
   "execution_count": null,
   "id": "d6796cd9-3050-4fa3-a49f-4757a4ed416d",
   "metadata": {
    "pycharm": {
     "name": "#%%\n"
    }
   },
   "outputs": [],
   "source": []
  }
 ],
 "metadata": {
  "kernelspec": {
   "display_name": "Python 3",
   "language": "python",
   "name": "python3"
  },
  "language_info": {
   "codemirror_mode": {
    "name": "ipython",
    "version": 3
   },
   "file_extension": ".py",
   "mimetype": "text/x-python",
   "name": "python",
   "nbconvert_exporter": "python",
   "pygments_lexer": "ipython3",
   "version": "3.8.2"
  }
 },
 "nbformat": 4,
 "nbformat_minor": 5
}
