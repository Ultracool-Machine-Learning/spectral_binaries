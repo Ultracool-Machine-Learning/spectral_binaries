{
 "cells": [
  {
   "cell_type": "code",
   "execution_count": 2,
   "id": "d884dda4",
   "metadata": {},
   "outputs": [],
   "source": [
    "import spectral_binaries as sb"
   ]
  },
  {
   "cell_type": "code",
   "execution_count": 12,
   "id": "cf5fbe4a",
   "metadata": {},
   "outputs": [
    {
     "data": {
      "text/plain": [
       "0       M0.0\n",
       "1       M1.0\n",
       "2       M2.0\n",
       "3       M3.0\n",
       "4       M4.0\n",
       "       ...  \n",
       "66    sdM8.0\n",
       "67    sdM9.5\n",
       "68    sdL0.0\n",
       "69    sdL3.5\n",
       "70    sdL4.0\n",
       "Name: sptype, Length: 71, dtype: object"
      ]
     },
     "execution_count": 12,
     "metadata": {},
     "output_type": "execute_result"
    }
   ],
   "source": [
    "sb.STANDARDS['SPT']"
   ]
  },
  {
   "cell_type": "code",
   "execution_count": null,
   "id": "075fdcd0",
   "metadata": {},
   "outputs": [],
   "source": []
  }
 ],
 "metadata": {
  "kernelspec": {
   "display_name": "Python 3 (ipykernel)",
   "language": "python",
   "name": "python3"
  },
  "language_info": {
   "codemirror_mode": {
    "name": "ipython",
    "version": 3
   },
   "file_extension": ".py",
   "mimetype": "text/x-python",
   "name": "python",
   "nbconvert_exporter": "python",
   "pygments_lexer": "ipython3",
   "version": "3.9.7"
  }
 },
 "nbformat": 4,
 "nbformat_minor": 5
}
